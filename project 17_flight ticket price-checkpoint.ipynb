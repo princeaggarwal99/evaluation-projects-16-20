{
 "cells": [
  {
   "cell_type": "code",
   "execution_count": 2,
   "metadata": {},
   "outputs": [],
   "source": [
    "#importing libraries\n",
    "import pandas as pd\n",
    "import numpy as np\n",
    "import seaborn as sns\n",
    "import matplotlib.pyplot as plt\n",
    "import warnings \n",
    "warnings.filterwarnings(\"ignore\")"
   ]
  },
  {
   "cell_type": "code",
   "execution_count": 3,
   "metadata": {},
   "outputs": [],
   "source": [
    "#importing datasets \n",
    "train=pd.read_excel('flight_train.xlsx') # train data\n",
    "test=pd.read_excel(\"flight_test.xlsx\")\n",
    "sub=pd.read_excel(\"Sample_submission.xlsx\")"
   ]
  },
  {
   "cell_type": "code",
   "execution_count": 4,
   "metadata": {},
   "outputs": [
    {
     "data": {
      "text/html": [
       "<div>\n",
       "<style scoped>\n",
       "    .dataframe tbody tr th:only-of-type {\n",
       "        vertical-align: middle;\n",
       "    }\n",
       "\n",
       "    .dataframe tbody tr th {\n",
       "        vertical-align: top;\n",
       "    }\n",
       "\n",
       "    .dataframe thead th {\n",
       "        text-align: right;\n",
       "    }\n",
       "</style>\n",
       "<table border=\"1\" class=\"dataframe\">\n",
       "  <thead>\n",
       "    <tr style=\"text-align: right;\">\n",
       "      <th></th>\n",
       "      <th>Airline</th>\n",
       "      <th>Date_of_Journey</th>\n",
       "      <th>Source</th>\n",
       "      <th>Destination</th>\n",
       "      <th>Route</th>\n",
       "      <th>Dep_Time</th>\n",
       "      <th>Arrival_Time</th>\n",
       "      <th>Duration</th>\n",
       "      <th>Total_Stops</th>\n",
       "      <th>Additional_Info</th>\n",
       "      <th>Price</th>\n",
       "    </tr>\n",
       "  </thead>\n",
       "  <tbody>\n",
       "    <tr>\n",
       "      <td>0</td>\n",
       "      <td>IndiGo</td>\n",
       "      <td>24/03/2019</td>\n",
       "      <td>Banglore</td>\n",
       "      <td>New Delhi</td>\n",
       "      <td>BLR → DEL</td>\n",
       "      <td>22:20</td>\n",
       "      <td>01:10 22 Mar</td>\n",
       "      <td>2h 50m</td>\n",
       "      <td>non-stop</td>\n",
       "      <td>No info</td>\n",
       "      <td>3897</td>\n",
       "    </tr>\n",
       "    <tr>\n",
       "      <td>1</td>\n",
       "      <td>Air India</td>\n",
       "      <td>1/05/2019</td>\n",
       "      <td>Kolkata</td>\n",
       "      <td>Banglore</td>\n",
       "      <td>CCU → IXR → BBI → BLR</td>\n",
       "      <td>05:50</td>\n",
       "      <td>13:15</td>\n",
       "      <td>7h 25m</td>\n",
       "      <td>2 stops</td>\n",
       "      <td>No info</td>\n",
       "      <td>7662</td>\n",
       "    </tr>\n",
       "    <tr>\n",
       "      <td>2</td>\n",
       "      <td>Jet Airways</td>\n",
       "      <td>9/06/2019</td>\n",
       "      <td>Delhi</td>\n",
       "      <td>Cochin</td>\n",
       "      <td>DEL → LKO → BOM → COK</td>\n",
       "      <td>09:25</td>\n",
       "      <td>04:25 10 Jun</td>\n",
       "      <td>19h</td>\n",
       "      <td>2 stops</td>\n",
       "      <td>No info</td>\n",
       "      <td>13882</td>\n",
       "    </tr>\n",
       "    <tr>\n",
       "      <td>3</td>\n",
       "      <td>IndiGo</td>\n",
       "      <td>12/05/2019</td>\n",
       "      <td>Kolkata</td>\n",
       "      <td>Banglore</td>\n",
       "      <td>CCU → NAG → BLR</td>\n",
       "      <td>18:05</td>\n",
       "      <td>23:30</td>\n",
       "      <td>5h 25m</td>\n",
       "      <td>1 stop</td>\n",
       "      <td>No info</td>\n",
       "      <td>6218</td>\n",
       "    </tr>\n",
       "    <tr>\n",
       "      <td>4</td>\n",
       "      <td>IndiGo</td>\n",
       "      <td>01/03/2019</td>\n",
       "      <td>Banglore</td>\n",
       "      <td>New Delhi</td>\n",
       "      <td>BLR → NAG → DEL</td>\n",
       "      <td>16:50</td>\n",
       "      <td>21:35</td>\n",
       "      <td>4h 45m</td>\n",
       "      <td>1 stop</td>\n",
       "      <td>No info</td>\n",
       "      <td>13302</td>\n",
       "    </tr>\n",
       "  </tbody>\n",
       "</table>\n",
       "</div>"
      ],
      "text/plain": [
       "       Airline Date_of_Journey    Source Destination                  Route  \\\n",
       "0       IndiGo      24/03/2019  Banglore   New Delhi              BLR → DEL   \n",
       "1    Air India       1/05/2019   Kolkata    Banglore  CCU → IXR → BBI → BLR   \n",
       "2  Jet Airways       9/06/2019     Delhi      Cochin  DEL → LKO → BOM → COK   \n",
       "3       IndiGo      12/05/2019   Kolkata    Banglore        CCU → NAG → BLR   \n",
       "4       IndiGo      01/03/2019  Banglore   New Delhi        BLR → NAG → DEL   \n",
       "\n",
       "  Dep_Time  Arrival_Time Duration Total_Stops Additional_Info  Price  \n",
       "0    22:20  01:10 22 Mar   2h 50m    non-stop         No info   3897  \n",
       "1    05:50         13:15   7h 25m     2 stops         No info   7662  \n",
       "2    09:25  04:25 10 Jun      19h     2 stops         No info  13882  \n",
       "3    18:05         23:30   5h 25m      1 stop         No info   6218  \n",
       "4    16:50         21:35   4h 45m      1 stop         No info  13302  "
      ]
     },
     "execution_count": 4,
     "metadata": {},
     "output_type": "execute_result"
    }
   ],
   "source": [
    "train.head()"
   ]
  },
  {
   "cell_type": "code",
   "execution_count": 5,
   "metadata": {},
   "outputs": [
    {
     "data": {
      "text/html": [
       "<div>\n",
       "<style scoped>\n",
       "    .dataframe tbody tr th:only-of-type {\n",
       "        vertical-align: middle;\n",
       "    }\n",
       "\n",
       "    .dataframe tbody tr th {\n",
       "        vertical-align: top;\n",
       "    }\n",
       "\n",
       "    .dataframe thead th {\n",
       "        text-align: right;\n",
       "    }\n",
       "</style>\n",
       "<table border=\"1\" class=\"dataframe\">\n",
       "  <thead>\n",
       "    <tr style=\"text-align: right;\">\n",
       "      <th></th>\n",
       "      <th>Airline</th>\n",
       "      <th>Date_of_Journey</th>\n",
       "      <th>Source</th>\n",
       "      <th>Destination</th>\n",
       "      <th>Route</th>\n",
       "      <th>Dep_Time</th>\n",
       "      <th>Arrival_Time</th>\n",
       "      <th>Duration</th>\n",
       "      <th>Total_Stops</th>\n",
       "      <th>Additional_Info</th>\n",
       "    </tr>\n",
       "  </thead>\n",
       "  <tbody>\n",
       "    <tr>\n",
       "      <td>0</td>\n",
       "      <td>Jet Airways</td>\n",
       "      <td>6/06/2019</td>\n",
       "      <td>Delhi</td>\n",
       "      <td>Cochin</td>\n",
       "      <td>DEL → BOM → COK</td>\n",
       "      <td>17:30</td>\n",
       "      <td>04:25 07 Jun</td>\n",
       "      <td>10h 55m</td>\n",
       "      <td>1 stop</td>\n",
       "      <td>No info</td>\n",
       "    </tr>\n",
       "    <tr>\n",
       "      <td>1</td>\n",
       "      <td>IndiGo</td>\n",
       "      <td>12/05/2019</td>\n",
       "      <td>Kolkata</td>\n",
       "      <td>Banglore</td>\n",
       "      <td>CCU → MAA → BLR</td>\n",
       "      <td>06:20</td>\n",
       "      <td>10:20</td>\n",
       "      <td>4h</td>\n",
       "      <td>1 stop</td>\n",
       "      <td>No info</td>\n",
       "    </tr>\n",
       "    <tr>\n",
       "      <td>2</td>\n",
       "      <td>Jet Airways</td>\n",
       "      <td>21/05/2019</td>\n",
       "      <td>Delhi</td>\n",
       "      <td>Cochin</td>\n",
       "      <td>DEL → BOM → COK</td>\n",
       "      <td>19:15</td>\n",
       "      <td>19:00 22 May</td>\n",
       "      <td>23h 45m</td>\n",
       "      <td>1 stop</td>\n",
       "      <td>In-flight meal not included</td>\n",
       "    </tr>\n",
       "    <tr>\n",
       "      <td>3</td>\n",
       "      <td>Multiple carriers</td>\n",
       "      <td>21/05/2019</td>\n",
       "      <td>Delhi</td>\n",
       "      <td>Cochin</td>\n",
       "      <td>DEL → BOM → COK</td>\n",
       "      <td>08:00</td>\n",
       "      <td>21:00</td>\n",
       "      <td>13h</td>\n",
       "      <td>1 stop</td>\n",
       "      <td>No info</td>\n",
       "    </tr>\n",
       "    <tr>\n",
       "      <td>4</td>\n",
       "      <td>Air Asia</td>\n",
       "      <td>24/06/2019</td>\n",
       "      <td>Banglore</td>\n",
       "      <td>Delhi</td>\n",
       "      <td>BLR → DEL</td>\n",
       "      <td>23:55</td>\n",
       "      <td>02:45 25 Jun</td>\n",
       "      <td>2h 50m</td>\n",
       "      <td>non-stop</td>\n",
       "      <td>No info</td>\n",
       "    </tr>\n",
       "  </tbody>\n",
       "</table>\n",
       "</div>"
      ],
      "text/plain": [
       "             Airline Date_of_Journey    Source Destination            Route  \\\n",
       "0        Jet Airways       6/06/2019     Delhi      Cochin  DEL → BOM → COK   \n",
       "1             IndiGo      12/05/2019   Kolkata    Banglore  CCU → MAA → BLR   \n",
       "2        Jet Airways      21/05/2019     Delhi      Cochin  DEL → BOM → COK   \n",
       "3  Multiple carriers      21/05/2019     Delhi      Cochin  DEL → BOM → COK   \n",
       "4           Air Asia      24/06/2019  Banglore       Delhi        BLR → DEL   \n",
       "\n",
       "  Dep_Time  Arrival_Time Duration Total_Stops              Additional_Info  \n",
       "0    17:30  04:25 07 Jun  10h 55m      1 stop                      No info  \n",
       "1    06:20         10:20       4h      1 stop                      No info  \n",
       "2    19:15  19:00 22 May  23h 45m      1 stop  In-flight meal not included  \n",
       "3    08:00         21:00      13h      1 stop                      No info  \n",
       "4    23:55  02:45 25 Jun   2h 50m    non-stop                      No info  "
      ]
     },
     "execution_count": 5,
     "metadata": {},
     "output_type": "execute_result"
    }
   ],
   "source": [
    "test.head()"
   ]
  },
  {
   "cell_type": "code",
   "execution_count": 6,
   "metadata": {},
   "outputs": [
    {
     "data": {
      "text/plain": [
       "(10683, 11)"
      ]
     },
     "execution_count": 6,
     "metadata": {},
     "output_type": "execute_result"
    }
   ],
   "source": [
    "train.shape"
   ]
  },
  {
   "cell_type": "code",
   "execution_count": 7,
   "metadata": {},
   "outputs": [
    {
     "data": {
      "text/plain": [
       "(2671, 10)"
      ]
     },
     "execution_count": 7,
     "metadata": {},
     "output_type": "execute_result"
    }
   ],
   "source": [
    "test.shape"
   ]
  },
  {
   "cell_type": "code",
   "execution_count": 8,
   "metadata": {},
   "outputs": [
    {
     "name": "stdout",
     "output_type": "stream",
     "text": [
      "<class 'pandas.core.frame.DataFrame'>\n",
      "RangeIndex: 10683 entries, 0 to 10682\n",
      "Data columns (total 11 columns):\n",
      "Airline            10683 non-null object\n",
      "Date_of_Journey    10683 non-null object\n",
      "Source             10683 non-null object\n",
      "Destination        10683 non-null object\n",
      "Route              10682 non-null object\n",
      "Dep_Time           10683 non-null object\n",
      "Arrival_Time       10683 non-null object\n",
      "Duration           10683 non-null object\n",
      "Total_Stops        10682 non-null object\n",
      "Additional_Info    10683 non-null object\n",
      "Price              10683 non-null int64\n",
      "dtypes: int64(1), object(10)\n",
      "memory usage: 918.2+ KB\n"
     ]
    }
   ],
   "source": [
    "train.info()\n"
   ]
  },
  {
   "cell_type": "code",
   "execution_count": 9,
   "metadata": {},
   "outputs": [
    {
     "name": "stdout",
     "output_type": "stream",
     "text": [
      "<class 'pandas.core.frame.DataFrame'>\n",
      "RangeIndex: 2671 entries, 0 to 2670\n",
      "Data columns (total 10 columns):\n",
      "Airline            2671 non-null object\n",
      "Date_of_Journey    2671 non-null object\n",
      "Source             2671 non-null object\n",
      "Destination        2671 non-null object\n",
      "Route              2671 non-null object\n",
      "Dep_Time           2671 non-null object\n",
      "Arrival_Time       2671 non-null object\n",
      "Duration           2671 non-null object\n",
      "Total_Stops        2671 non-null object\n",
      "Additional_Info    2671 non-null object\n",
      "dtypes: object(10)\n",
      "memory usage: 208.8+ KB\n"
     ]
    }
   ],
   "source": [
    "test.info()"
   ]
  },
  {
   "cell_type": "code",
   "execution_count": 10,
   "metadata": {},
   "outputs": [
    {
     "data": {
      "text/html": [
       "<div>\n",
       "<style scoped>\n",
       "    .dataframe tbody tr th:only-of-type {\n",
       "        vertical-align: middle;\n",
       "    }\n",
       "\n",
       "    .dataframe tbody tr th {\n",
       "        vertical-align: top;\n",
       "    }\n",
       "\n",
       "    .dataframe thead th {\n",
       "        text-align: right;\n",
       "    }\n",
       "</style>\n",
       "<table border=\"1\" class=\"dataframe\">\n",
       "  <thead>\n",
       "    <tr style=\"text-align: right;\">\n",
       "      <th></th>\n",
       "      <th>Price</th>\n",
       "    </tr>\n",
       "  </thead>\n",
       "  <tbody>\n",
       "    <tr>\n",
       "      <td>count</td>\n",
       "      <td>10683.000000</td>\n",
       "    </tr>\n",
       "    <tr>\n",
       "      <td>mean</td>\n",
       "      <td>9087.064121</td>\n",
       "    </tr>\n",
       "    <tr>\n",
       "      <td>std</td>\n",
       "      <td>4611.359167</td>\n",
       "    </tr>\n",
       "    <tr>\n",
       "      <td>min</td>\n",
       "      <td>1759.000000</td>\n",
       "    </tr>\n",
       "    <tr>\n",
       "      <td>25%</td>\n",
       "      <td>5277.000000</td>\n",
       "    </tr>\n",
       "    <tr>\n",
       "      <td>50%</td>\n",
       "      <td>8372.000000</td>\n",
       "    </tr>\n",
       "    <tr>\n",
       "      <td>75%</td>\n",
       "      <td>12373.000000</td>\n",
       "    </tr>\n",
       "    <tr>\n",
       "      <td>max</td>\n",
       "      <td>79512.000000</td>\n",
       "    </tr>\n",
       "  </tbody>\n",
       "</table>\n",
       "</div>"
      ],
      "text/plain": [
       "              Price\n",
       "count  10683.000000\n",
       "mean    9087.064121\n",
       "std     4611.359167\n",
       "min     1759.000000\n",
       "25%     5277.000000\n",
       "50%     8372.000000\n",
       "75%    12373.000000\n",
       "max    79512.000000"
      ]
     },
     "execution_count": 10,
     "metadata": {},
     "output_type": "execute_result"
    }
   ],
   "source": [
    "train.describe()"
   ]
  },
  {
   "cell_type": "code",
   "execution_count": 11,
   "metadata": {},
   "outputs": [
    {
     "data": {
      "text/html": [
       "<div>\n",
       "<style scoped>\n",
       "    .dataframe tbody tr th:only-of-type {\n",
       "        vertical-align: middle;\n",
       "    }\n",
       "\n",
       "    .dataframe tbody tr th {\n",
       "        vertical-align: top;\n",
       "    }\n",
       "\n",
       "    .dataframe thead th {\n",
       "        text-align: right;\n",
       "    }\n",
       "</style>\n",
       "<table border=\"1\" class=\"dataframe\">\n",
       "  <thead>\n",
       "    <tr style=\"text-align: right;\">\n",
       "      <th></th>\n",
       "      <th>Airline</th>\n",
       "      <th>Date_of_Journey</th>\n",
       "      <th>Source</th>\n",
       "      <th>Destination</th>\n",
       "      <th>Route</th>\n",
       "      <th>Dep_Time</th>\n",
       "      <th>Arrival_Time</th>\n",
       "      <th>Duration</th>\n",
       "      <th>Total_Stops</th>\n",
       "      <th>Additional_Info</th>\n",
       "    </tr>\n",
       "  </thead>\n",
       "  <tbody>\n",
       "    <tr>\n",
       "      <td>count</td>\n",
       "      <td>2671</td>\n",
       "      <td>2671</td>\n",
       "      <td>2671</td>\n",
       "      <td>2671</td>\n",
       "      <td>2671</td>\n",
       "      <td>2671</td>\n",
       "      <td>2671</td>\n",
       "      <td>2671</td>\n",
       "      <td>2671</td>\n",
       "      <td>2671</td>\n",
       "    </tr>\n",
       "    <tr>\n",
       "      <td>unique</td>\n",
       "      <td>11</td>\n",
       "      <td>44</td>\n",
       "      <td>5</td>\n",
       "      <td>6</td>\n",
       "      <td>100</td>\n",
       "      <td>199</td>\n",
       "      <td>704</td>\n",
       "      <td>320</td>\n",
       "      <td>5</td>\n",
       "      <td>6</td>\n",
       "    </tr>\n",
       "    <tr>\n",
       "      <td>top</td>\n",
       "      <td>Jet Airways</td>\n",
       "      <td>9/05/2019</td>\n",
       "      <td>Delhi</td>\n",
       "      <td>Cochin</td>\n",
       "      <td>DEL → BOM → COK</td>\n",
       "      <td>10:00</td>\n",
       "      <td>19:00</td>\n",
       "      <td>2h 50m</td>\n",
       "      <td>1 stop</td>\n",
       "      <td>No info</td>\n",
       "    </tr>\n",
       "    <tr>\n",
       "      <td>freq</td>\n",
       "      <td>897</td>\n",
       "      <td>144</td>\n",
       "      <td>1145</td>\n",
       "      <td>1145</td>\n",
       "      <td>624</td>\n",
       "      <td>62</td>\n",
       "      <td>113</td>\n",
       "      <td>122</td>\n",
       "      <td>1431</td>\n",
       "      <td>2148</td>\n",
       "    </tr>\n",
       "  </tbody>\n",
       "</table>\n",
       "</div>"
      ],
      "text/plain": [
       "            Airline Date_of_Journey Source Destination            Route  \\\n",
       "count          2671            2671   2671        2671             2671   \n",
       "unique           11              44      5           6              100   \n",
       "top     Jet Airways       9/05/2019  Delhi      Cochin  DEL → BOM → COK   \n",
       "freq            897             144   1145        1145              624   \n",
       "\n",
       "       Dep_Time Arrival_Time Duration Total_Stops Additional_Info  \n",
       "count      2671         2671     2671        2671            2671  \n",
       "unique      199          704      320           5               6  \n",
       "top       10:00        19:00   2h 50m      1 stop         No info  \n",
       "freq         62          113      122        1431            2148  "
      ]
     },
     "execution_count": 11,
     "metadata": {},
     "output_type": "execute_result"
    }
   ],
   "source": [
    "test.describe()"
   ]
  },
  {
   "cell_type": "code",
   "execution_count": 12,
   "metadata": {},
   "outputs": [
    {
     "name": "stdout",
     "output_type": "stream",
     "text": [
      "Airline            0\n",
      "Date_of_Journey    0\n",
      "Source             0\n",
      "Destination        0\n",
      "Route              1\n",
      "Dep_Time           0\n",
      "Arrival_Time       0\n",
      "Duration           0\n",
      "Total_Stops        1\n",
      "Additional_Info    0\n",
      "Price              0\n",
      "dtype: int64\n",
      "AxesSubplot(0.125,0.125;0.62x0.755)\n"
     ]
    },
    {
     "data": {
      "image/png": "[encoded data removed]",
      "text/plain": [
       "<Figure size 432x288 with 2 Axes>"
      ]
     },
     "metadata": {
      "needs_background": "light"
     },
     "output_type": "display_data"
    }
   ],
   "source": [
    "# null values cheeck for train dataset\n",
    "print(train.isnull().sum())\n",
    "print(sns.heatmap(train.isnull()))"
   ]
  },
  {
   "cell_type": "code",
   "execution_count": 13,
   "metadata": {},
   "outputs": [
    {
     "data": {
      "text/plain": [
       "Airline            0\n",
       "Date_of_Journey    0\n",
       "Source             0\n",
       "Destination        0\n",
       "Route              0\n",
       "Dep_Time           0\n",
       "Arrival_Time       0\n",
       "Duration           0\n",
       "Total_Stops        0\n",
       "Additional_Info    0\n",
       "dtype: int64"
      ]
     },
     "execution_count": 13,
     "metadata": {},
     "output_type": "execute_result"
    }
   ],
   "source": [
    "test.isnull().sum() # null values in test dataset"
   ]
  },
  {
   "cell_type": "code",
   "execution_count": 14,
   "metadata": {},
   "outputs": [],
   "source": [
    "train['source']= 'train'\n",
    "test['source'] = 'test'"
   ]
  },
  {
   "cell_type": "code",
   "execution_count": 15,
   "metadata": {},
   "outputs": [],
   "source": [
    "# merging the train and test dataset  \n",
    "df=pd.concat([train,test])"
   ]
  },
  {
   "cell_type": "code",
   "execution_count": 16,
   "metadata": {},
   "outputs": [
    {
     "data": {
      "text/html": [
       "<div>\n",
       "<style scoped>\n",
       "    .dataframe tbody tr th:only-of-type {\n",
       "        vertical-align: middle;\n",
       "    }\n",
       "\n",
       "    .dataframe tbody tr th {\n",
       "        vertical-align: top;\n",
       "    }\n",
       "\n",
       "    .dataframe thead th {\n",
       "        text-align: right;\n",
       "    }\n",
       "</style>\n",
       "<table border=\"1\" class=\"dataframe\">\n",
       "  <thead>\n",
       "    <tr style=\"text-align: right;\">\n",
       "      <th></th>\n",
       "      <th>Additional_Info</th>\n",
       "      <th>Airline</th>\n",
       "      <th>Arrival_Time</th>\n",
       "      <th>Date_of_Journey</th>\n",
       "      <th>Dep_Time</th>\n",
       "      <th>Destination</th>\n",
       "      <th>Duration</th>\n",
       "      <th>Price</th>\n",
       "      <th>Route</th>\n",
       "      <th>Source</th>\n",
       "      <th>Total_Stops</th>\n",
       "      <th>source</th>\n",
       "    </tr>\n",
       "  </thead>\n",
       "  <tbody>\n",
       "    <tr>\n",
       "      <td>0</td>\n",
       "      <td>No info</td>\n",
       "      <td>IndiGo</td>\n",
       "      <td>01:10 22 Mar</td>\n",
       "      <td>24/03/2019</td>\n",
       "      <td>22:20</td>\n",
       "      <td>New Delhi</td>\n",
       "      <td>2h 50m</td>\n",
       "      <td>3897.0</td>\n",
       "      <td>BLR → DEL</td>\n",
       "      <td>Banglore</td>\n",
       "      <td>non-stop</td>\n",
       "      <td>train</td>\n",
       "    </tr>\n",
       "    <tr>\n",
       "      <td>1</td>\n",
       "      <td>No info</td>\n",
       "      <td>Air India</td>\n",
       "      <td>13:15</td>\n",
       "      <td>1/05/2019</td>\n",
       "      <td>05:50</td>\n",
       "      <td>Banglore</td>\n",
       "      <td>7h 25m</td>\n",
       "      <td>7662.0</td>\n",
       "      <td>CCU → IXR → BBI → BLR</td>\n",
       "      <td>Kolkata</td>\n",
       "      <td>2 stops</td>\n",
       "      <td>train</td>\n",
       "    </tr>\n",
       "    <tr>\n",
       "      <td>2</td>\n",
       "      <td>No info</td>\n",
       "      <td>Jet Airways</td>\n",
       "      <td>04:25 10 Jun</td>\n",
       "      <td>9/06/2019</td>\n",
       "      <td>09:25</td>\n",
       "      <td>Cochin</td>\n",
       "      <td>19h</td>\n",
       "      <td>13882.0</td>\n",
       "      <td>DEL → LKO → BOM → COK</td>\n",
       "      <td>Delhi</td>\n",
       "      <td>2 stops</td>\n",
       "      <td>train</td>\n",
       "    </tr>\n",
       "    <tr>\n",
       "      <td>3</td>\n",
       "      <td>No info</td>\n",
       "      <td>IndiGo</td>\n",
       "      <td>23:30</td>\n",
       "      <td>12/05/2019</td>\n",
       "      <td>18:05</td>\n",
       "      <td>Banglore</td>\n",
       "      <td>5h 25m</td>\n",
       "      <td>6218.0</td>\n",
       "      <td>CCU → NAG → BLR</td>\n",
       "      <td>Kolkata</td>\n",
       "      <td>1 stop</td>\n",
       "      <td>train</td>\n",
       "    </tr>\n",
       "    <tr>\n",
       "      <td>4</td>\n",
       "      <td>No info</td>\n",
       "      <td>IndiGo</td>\n",
       "      <td>21:35</td>\n",
       "      <td>01/03/2019</td>\n",
       "      <td>16:50</td>\n",
       "      <td>New Delhi</td>\n",
       "      <td>4h 45m</td>\n",
       "      <td>13302.0</td>\n",
       "      <td>BLR → NAG → DEL</td>\n",
       "      <td>Banglore</td>\n",
       "      <td>1 stop</td>\n",
       "      <td>train</td>\n",
       "    </tr>\n",
       "  </tbody>\n",
       "</table>\n",
       "</div>"
      ],
      "text/plain": [
       "  Additional_Info      Airline  Arrival_Time Date_of_Journey Dep_Time  \\\n",
       "0         No info       IndiGo  01:10 22 Mar      24/03/2019    22:20   \n",
       "1         No info    Air India         13:15       1/05/2019    05:50   \n",
       "2         No info  Jet Airways  04:25 10 Jun       9/06/2019    09:25   \n",
       "3         No info       IndiGo         23:30      12/05/2019    18:05   \n",
       "4         No info       IndiGo         21:35      01/03/2019    16:50   \n",
       "\n",
       "  Destination Duration    Price                  Route    Source Total_Stops  \\\n",
       "0   New Delhi   2h 50m   3897.0              BLR → DEL  Banglore    non-stop   \n",
       "1    Banglore   7h 25m   7662.0  CCU → IXR → BBI → BLR   Kolkata     2 stops   \n",
       "2      Cochin      19h  13882.0  DEL → LKO → BOM → COK     Delhi     2 stops   \n",
       "3    Banglore   5h 25m   6218.0        CCU → NAG → BLR   Kolkata      1 stop   \n",
       "4   New Delhi   4h 45m  13302.0        BLR → NAG → DEL  Banglore      1 stop   \n",
       "\n",
       "  source  \n",
       "0  train  \n",
       "1  train  \n",
       "2  train  \n",
       "3  train  \n",
       "4  train  "
      ]
     },
     "execution_count": 16,
     "metadata": {},
     "output_type": "execute_result"
    }
   ],
   "source": [
    "df.head()"
   ]
  },
  {
   "cell_type": "code",
   "execution_count": 17,
   "metadata": {},
   "outputs": [
    {
     "data": {
      "text/plain": [
       "(13354, 12)"
      ]
     },
     "execution_count": 17,
     "metadata": {},
     "output_type": "execute_result"
    }
   ],
   "source": [
    "df.shape\n",
    "# shape for total data"
   ]
  },
  {
   "cell_type": "code",
   "execution_count": 18,
   "metadata": {},
   "outputs": [
    {
     "data": {
      "text/plain": [
       "Additional_Info     object\n",
       "Airline             object\n",
       "Arrival_Time        object\n",
       "Date_of_Journey     object\n",
       "Dep_Time            object\n",
       "Destination         object\n",
       "Duration            object\n",
       "Price              float64\n",
       "Route               object\n",
       "Source              object\n",
       "Total_Stops         object\n",
       "source              object\n",
       "dtype: object"
      ]
     },
     "execution_count": 18,
     "metadata": {},
     "output_type": "execute_result"
    }
   ],
   "source": [
    "df.dtypes\n",
    "# data types for dataset \n",
    "# all object except price"
   ]
  },
  {
   "cell_type": "code",
   "execution_count": 19,
   "metadata": {},
   "outputs": [
    {
     "name": "stdout",
     "output_type": "stream",
     "text": [
      "Additional_Info       0\n",
      "Airline               0\n",
      "Arrival_Time          0\n",
      "Date_of_Journey       0\n",
      "Dep_Time              0\n",
      "Destination           0\n",
      "Duration              0\n",
      "Price              2671\n",
      "Route                 1\n",
      "Source                0\n",
      "Total_Stops           1\n",
      "source                0\n",
      "dtype: int64\n",
      "AxesSubplot(0.125,0.125;0.62x0.755)\n"
     ]
    },
    {
     "data": {
      "image/png": "[encoded data removed]",
      "text/plain": [
       "<Figure size 432x288 with 2 Axes>"
      ]
     },
     "metadata": {
      "needs_background": "light"
     },
     "output_type": "display_data"
    }
   ],
   "source": [
    "print(df.isnull().sum())\n",
    "print(sns.heatmap(df.isnull()))\n",
    "\n",
    "# null values in price as it is because of test data does not conatin the target variable price "
   ]
  },
  {
   "cell_type": "code",
   "execution_count": 20,
   "metadata": {},
   "outputs": [],
   "source": [
    "df['Total_Stops']=df['Total_Stops'].str.extract('(\\d+)').astype(float)\n",
    "# removing categorical values and extracting the int values from the column "
   ]
  },
  {
   "cell_type": "code",
   "execution_count": 21,
   "metadata": {},
   "outputs": [
    {
     "data": {
      "text/plain": [
       "array([nan,  2.,  1.,  3.,  4.])"
      ]
     },
     "execution_count": 21,
     "metadata": {},
     "output_type": "execute_result"
    }
   ],
   "source": [
    "df['Total_Stops'].unique()"
   ]
  },
  {
   "cell_type": "code",
   "execution_count": 22,
   "metadata": {},
   "outputs": [],
   "source": [
    "df['Total_Stops'].fillna(0,inplace=True)\n",
    "# filling null values from total stops by 0 ,non stop flights"
   ]
  },
  {
   "cell_type": "code",
   "execution_count": 23,
   "metadata": {},
   "outputs": [
    {
     "data": {
      "text/plain": [
       "<matplotlib.axes._subplots.AxesSubplot at 0x20019903048>"
      ]
     },
     "execution_count": 23,
     "metadata": {},
     "output_type": "execute_result"
    },
    {
     "data": {
      "image/png": "[encoded data removed]",
      "text/plain": [
       "<Figure size 432x288 with 1 Axes>"
      ]
     },
     "metadata": {
      "needs_background": "light"
     },
     "output_type": "display_data"
    }
   ],
   "source": [
    "sns.distplot(df['Total_Stops'])"
   ]
  },
  {
   "cell_type": "code",
   "execution_count": 24,
   "metadata": {},
   "outputs": [
    {
     "data": {
      "text/plain": [
       "<matplotlib.axes._subplots.AxesSubplot at 0x20019623cc8>"
      ]
     },
     "execution_count": 24,
     "metadata": {},
     "output_type": "execute_result"
    },
    {
     "data": {
      "image/png": "[encoded data removed]",
      "text/plain": [
       "<Figure size 432x288 with 1 Axes>"
      ]
     },
     "metadata": {
      "needs_background": "light"
     },
     "output_type": "display_data"
    }
   ],
   "source": [
    "sns.countplot(df['Total_Stops'])\n",
    "# 1 stop filghts are way more than other , 3 or 4 stoops being the lowest"
   ]
  },
  {
   "cell_type": "code",
   "execution_count": 25,
   "metadata": {},
   "outputs": [],
   "source": [
    "df['Route'].fillna('missing',inplace=True)\n",
    "# filling null routes by missing as we can not input any dummy route there"
   ]
  },
  {
   "cell_type": "code",
   "execution_count": 26,
   "metadata": {},
   "outputs": [
    {
     "data": {
      "text/plain": [
       "Additional_Info       0\n",
       "Airline               0\n",
       "Arrival_Time          0\n",
       "Date_of_Journey       0\n",
       "Dep_Time              0\n",
       "Destination           0\n",
       "Duration              0\n",
       "Price              2671\n",
       "Route                 0\n",
       "Source                0\n",
       "Total_Stops           0\n",
       "source                0\n",
       "dtype: int64"
      ]
     },
     "execution_count": 26,
     "metadata": {},
     "output_type": "execute_result"
    }
   ],
   "source": [
    "df.isnull().sum()\n"
   ]
  },
  {
   "cell_type": "code",
   "execution_count": 27,
   "metadata": {},
   "outputs": [
    {
     "name": "stdout",
     "output_type": "stream",
     "text": [
      "12\n",
      "Jet Airways                          4746\n",
      "IndiGo                               2564\n",
      "Air India                            2192\n",
      "Multiple carriers                    1543\n",
      "SpiceJet                             1026\n",
      "Vistara                               608\n",
      "Air Asia                              405\n",
      "GoAir                                 240\n",
      "Multiple carriers Premium economy      16\n",
      "Jet Airways Business                    8\n",
      "Vistara Premium economy                 5\n",
      "Trujet                                  1\n",
      "Name: Airline, dtype: int64\n"
     ]
    }
   ],
   "source": [
    "print(df['Airline'].nunique())\n",
    "print(df['Airline'].value_counts())\n",
    "# jet airways are the top most amongst  all in terms of most flights in dataset"
   ]
  },
  {
   "cell_type": "code",
   "execution_count": 28,
   "metadata": {},
   "outputs": [
    {
     "name": "stdout",
     "output_type": "stream",
     "text": [
      "Additional_Info          Business class\n",
      "Airline            Jet Airways Business\n",
      "Arrival_Time                      11:25\n",
      "Date_of_Journey              01/03/2019\n",
      "Dep_Time                          05:45\n",
      "Destination                   New Delhi\n",
      "Duration                         5h 40m\n",
      "Price                             79512\n",
      "Route                   BLR → BOM → DEL\n",
      "Source                         Banglore\n",
      "Total_Stops                           1\n",
      "source                            train\n",
      "Name: 2924, dtype: object\n",
      "Additional_Info         No info\n",
      "Airline                SpiceJet\n",
      "Arrival_Time       00:10 22 Mar\n",
      "Date_of_Journey      21/03/2019\n",
      "Dep_Time                  22:45\n",
      "Destination           Hyderabad\n",
      "Duration                 1h 25m\n",
      "Price                      1759\n",
      "Route                 BOM → HYD\n",
      "Source                   Mumbai\n",
      "Total_Stops                   0\n",
      "source                    train\n",
      "Name: 4066, dtype: object\n"
     ]
    }
   ],
   "source": [
    "print(df.loc[df['Price'].idxmax()])\n",
    "print(df.loc[df['Price'].idxmin()])\n",
    "\n",
    "##   finding the  airline havine the highest fare along with the route and ,source and all other stuff  === jet airways\n",
    "##as well as the minimum fare ones === spice jet"
   ]
  },
  {
   "cell_type": "code",
   "execution_count": 29,
   "metadata": {},
   "outputs": [
    {
     "data": {
      "text/plain": [
       "<matplotlib.axes._subplots.AxesSubplot at 0x2001992d508>"
      ]
     },
     "execution_count": 29,
     "metadata": {},
     "output_type": "execute_result"
    },
    {
     "data": {
      "image/png": "[encoded data removed]",
      "text/plain": [
       "<Figure size 720x504 with 1 Axes>"
      ]
     },
     "metadata": {
      "needs_background": "light"
     },
     "output_type": "display_data"
    }
   ],
   "source": [
    "plt.figure(figsize=(10,7))\n",
    "sns.countplot(y=df['Airline'])"
   ]
  },
  {
   "cell_type": "code",
   "execution_count": 30,
   "metadata": {},
   "outputs": [],
   "source": [
    "from sklearn.preprocessing import LabelEncoder\n",
    "le=LabelEncoder()\n",
    "df['Airline']=le.fit_transform(df['Airline'])\n",
    "# encoding airline to transform it into a int / float dtype"
   ]
  },
  {
   "cell_type": "code",
   "execution_count": 31,
   "metadata": {},
   "outputs": [
    {
     "data": {
      "text/html": [
       "<div>\n",
       "<style scoped>\n",
       "    .dataframe tbody tr th:only-of-type {\n",
       "        vertical-align: middle;\n",
       "    }\n",
       "\n",
       "    .dataframe tbody tr th {\n",
       "        vertical-align: top;\n",
       "    }\n",
       "\n",
       "    .dataframe thead th {\n",
       "        text-align: right;\n",
       "    }\n",
       "</style>\n",
       "<table border=\"1\" class=\"dataframe\">\n",
       "  <thead>\n",
       "    <tr style=\"text-align: right;\">\n",
       "      <th></th>\n",
       "      <th>Additional_Info</th>\n",
       "      <th>Airline</th>\n",
       "      <th>Arrival_Time</th>\n",
       "      <th>Date_of_Journey</th>\n",
       "      <th>Dep_Time</th>\n",
       "      <th>Destination</th>\n",
       "      <th>Duration</th>\n",
       "      <th>Price</th>\n",
       "      <th>Route</th>\n",
       "      <th>Source</th>\n",
       "      <th>Total_Stops</th>\n",
       "      <th>source</th>\n",
       "    </tr>\n",
       "  </thead>\n",
       "  <tbody>\n",
       "    <tr>\n",
       "      <td>0</td>\n",
       "      <td>No info</td>\n",
       "      <td>3</td>\n",
       "      <td>01:10 22 Mar</td>\n",
       "      <td>24/03/2019</td>\n",
       "      <td>22:20</td>\n",
       "      <td>New Delhi</td>\n",
       "      <td>2h 50m</td>\n",
       "      <td>3897.0</td>\n",
       "      <td>BLR → DEL</td>\n",
       "      <td>Banglore</td>\n",
       "      <td>0.0</td>\n",
       "      <td>train</td>\n",
       "    </tr>\n",
       "    <tr>\n",
       "      <td>1</td>\n",
       "      <td>No info</td>\n",
       "      <td>1</td>\n",
       "      <td>13:15</td>\n",
       "      <td>1/05/2019</td>\n",
       "      <td>05:50</td>\n",
       "      <td>Banglore</td>\n",
       "      <td>7h 25m</td>\n",
       "      <td>7662.0</td>\n",
       "      <td>CCU → IXR → BBI → BLR</td>\n",
       "      <td>Kolkata</td>\n",
       "      <td>2.0</td>\n",
       "      <td>train</td>\n",
       "    </tr>\n",
       "    <tr>\n",
       "      <td>2</td>\n",
       "      <td>No info</td>\n",
       "      <td>4</td>\n",
       "      <td>04:25 10 Jun</td>\n",
       "      <td>9/06/2019</td>\n",
       "      <td>09:25</td>\n",
       "      <td>Cochin</td>\n",
       "      <td>19h</td>\n",
       "      <td>13882.0</td>\n",
       "      <td>DEL → LKO → BOM → COK</td>\n",
       "      <td>Delhi</td>\n",
       "      <td>2.0</td>\n",
       "      <td>train</td>\n",
       "    </tr>\n",
       "    <tr>\n",
       "      <td>3</td>\n",
       "      <td>No info</td>\n",
       "      <td>3</td>\n",
       "      <td>23:30</td>\n",
       "      <td>12/05/2019</td>\n",
       "      <td>18:05</td>\n",
       "      <td>Banglore</td>\n",
       "      <td>5h 25m</td>\n",
       "      <td>6218.0</td>\n",
       "      <td>CCU → NAG → BLR</td>\n",
       "      <td>Kolkata</td>\n",
       "      <td>1.0</td>\n",
       "      <td>train</td>\n",
       "    </tr>\n",
       "    <tr>\n",
       "      <td>4</td>\n",
       "      <td>No info</td>\n",
       "      <td>3</td>\n",
       "      <td>21:35</td>\n",
       "      <td>01/03/2019</td>\n",
       "      <td>16:50</td>\n",
       "      <td>New Delhi</td>\n",
       "      <td>4h 45m</td>\n",
       "      <td>13302.0</td>\n",
       "      <td>BLR → NAG → DEL</td>\n",
       "      <td>Banglore</td>\n",
       "      <td>1.0</td>\n",
       "      <td>train</td>\n",
       "    </tr>\n",
       "  </tbody>\n",
       "</table>\n",
       "</div>"
      ],
      "text/plain": [
       "  Additional_Info  Airline  Arrival_Time Date_of_Journey Dep_Time Destination  \\\n",
       "0         No info        3  01:10 22 Mar      24/03/2019    22:20   New Delhi   \n",
       "1         No info        1         13:15       1/05/2019    05:50    Banglore   \n",
       "2         No info        4  04:25 10 Jun       9/06/2019    09:25      Cochin   \n",
       "3         No info        3         23:30      12/05/2019    18:05    Banglore   \n",
       "4         No info        3         21:35      01/03/2019    16:50   New Delhi   \n",
       "\n",
       "  Duration    Price                  Route    Source  Total_Stops source  \n",
       "0   2h 50m   3897.0              BLR → DEL  Banglore          0.0  train  \n",
       "1   7h 25m   7662.0  CCU → IXR → BBI → BLR   Kolkata          2.0  train  \n",
       "2      19h  13882.0  DEL → LKO → BOM → COK     Delhi          2.0  train  \n",
       "3   5h 25m   6218.0        CCU → NAG → BLR   Kolkata          1.0  train  \n",
       "4   4h 45m  13302.0        BLR → NAG → DEL  Banglore          1.0  train  "
      ]
     },
     "execution_count": 31,
     "metadata": {},
     "output_type": "execute_result"
    }
   ],
   "source": [
    "df.head()"
   ]
  },
  {
   "cell_type": "code",
   "execution_count": 32,
   "metadata": {},
   "outputs": [
    {
     "data": {
      "text/plain": [
       "4     4746\n",
       "3     2564\n",
       "1     2192\n",
       "6     1543\n",
       "8     1026\n",
       "10     608\n",
       "0      405\n",
       "2      240\n",
       "7       16\n",
       "5        8\n",
       "11       5\n",
       "9        1\n",
       "Name: Airline, dtype: int64"
      ]
     },
     "execution_count": 32,
     "metadata": {},
     "output_type": "execute_result"
    }
   ],
   "source": [
    "df['Airline'].value_counts()\n",
    "#4-jetairways\n",
    "#3-indigo\n",
    "#1-air india\n",
    "#6-multiple carriers\n",
    "#8-spice jet"
   ]
  },
  {
   "cell_type": "code",
   "execution_count": 33,
   "metadata": {},
   "outputs": [
    {
     "data": {
      "text/plain": [
       "array(['New Delhi', 'Banglore', 'Cochin', 'Kolkata', 'Delhi', 'Hyderabad'],\n",
       "      dtype=object)"
      ]
     },
     "execution_count": 33,
     "metadata": {},
     "output_type": "execute_result"
    }
   ],
   "source": [
    "df['Destination'].unique()\n",
    "# only 6 destinations"
   ]
  },
  {
   "cell_type": "code",
   "execution_count": 34,
   "metadata": {},
   "outputs": [
    {
     "data": {
      "text/plain": [
       "<matplotlib.axes._subplots.AxesSubplot at 0x200195e2648>"
      ]
     },
     "execution_count": 34,
     "metadata": {},
     "output_type": "execute_result"
    },
    {
     "data": {
      "image/png": "[encoded data removed]",
      "text/plain": [
       "<Figure size 720x504 with 1 Axes>"
      ]
     },
     "metadata": {
      "needs_background": "light"
     },
     "output_type": "display_data"
    }
   ],
   "source": [
    "plt.figure(figsize=(10,7))\n",
    "sns.countplot(y=df['Destination'])\n",
    "\n",
    "# cochin  being tthe most fav destination"
   ]
  },
  {
   "cell_type": "code",
   "execution_count": 35,
   "metadata": {},
   "outputs": [
    {
     "data": {
      "text/plain": [
       "<matplotlib.axes._subplots.AxesSubplot at 0x20019718a88>"
      ]
     },
     "execution_count": 35,
     "metadata": {},
     "output_type": "execute_result"
    },
    {
     "data": {
      "image/png": "[encoded data removed]",
      "text/plain": [
       "<Figure size 504x504 with 1 Axes>"
      ]
     },
     "metadata": {
      "needs_background": "light"
     },
     "output_type": "display_data"
    }
   ],
   "source": [
    "plt.figure(figsize=(7,7))\n",
    "sns.boxplot(x=df['Destination'],y=df['Price'])"
   ]
  },
  {
   "cell_type": "code",
   "execution_count": 36,
   "metadata": {},
   "outputs": [
    {
     "data": {
      "text/plain": [
       "<matplotlib.axes._subplots.AxesSubplot at 0x20019ba8f88>"
      ]
     },
     "execution_count": 36,
     "metadata": {},
     "output_type": "execute_result"
    },
    {
     "data": {
      "image/png": "[encoded data removed]",
      "text/plain": [
       "<Figure size 432x288 with 1 Axes>"
      ]
     },
     "metadata": {
      "needs_background": "light"
     },
     "output_type": "display_data"
    }
   ],
   "source": [
    "sns.distplot(train['Price'])"
   ]
  },
  {
   "cell_type": "code",
   "execution_count": 37,
   "metadata": {},
   "outputs": [
    {
     "data": {
      "text/plain": [
       "<matplotlib.axes._subplots.AxesSubplot at 0x20019e4f4c8>"
      ]
     },
     "execution_count": 37,
     "metadata": {},
     "output_type": "execute_result"
    },
    {
     "data": {
      "image/png": "[encoded data removed]",
      "text/plain": [
       "<Figure size 1080x432 with 1 Axes>"
      ]
     },
     "metadata": {
      "needs_background": "light"
     },
     "output_type": "display_data"
    }
   ],
   "source": [
    "plt.figure(figsize=(15,6))\n",
    "sns.boxplot(x=df['Airline'],y=df['Price'])\n",
    "# vistara being the top price in flights amongst all"
   ]
  },
  {
   "cell_type": "code",
   "execution_count": 38,
   "metadata": {},
   "outputs": [
    {
     "data": {
      "text/html": [
       "<div>\n",
       "<style scoped>\n",
       "    .dataframe tbody tr th:only-of-type {\n",
       "        vertical-align: middle;\n",
       "    }\n",
       "\n",
       "    .dataframe tbody tr th {\n",
       "        vertical-align: top;\n",
       "    }\n",
       "\n",
       "    .dataframe thead th {\n",
       "        text-align: right;\n",
       "    }\n",
       "</style>\n",
       "<table border=\"1\" class=\"dataframe\">\n",
       "  <thead>\n",
       "    <tr style=\"text-align: right;\">\n",
       "      <th>Destination</th>\n",
       "      <th>Banglore</th>\n",
       "      <th>Cochin</th>\n",
       "      <th>Delhi</th>\n",
       "      <th>Hyderabad</th>\n",
       "      <th>Kolkata</th>\n",
       "      <th>New Delhi</th>\n",
       "    </tr>\n",
       "    <tr>\n",
       "      <th>Source</th>\n",
       "      <th></th>\n",
       "      <th></th>\n",
       "      <th></th>\n",
       "      <th></th>\n",
       "      <th></th>\n",
       "      <th></th>\n",
       "    </tr>\n",
       "  </thead>\n",
       "  <tbody>\n",
       "    <tr>\n",
       "      <td>Banglore</td>\n",
       "      <td>0</td>\n",
       "      <td>0</td>\n",
       "      <td>1582</td>\n",
       "      <td>0</td>\n",
       "      <td>0</td>\n",
       "      <td>1170</td>\n",
       "    </tr>\n",
       "    <tr>\n",
       "      <td>Chennai</td>\n",
       "      <td>0</td>\n",
       "      <td>0</td>\n",
       "      <td>0</td>\n",
       "      <td>0</td>\n",
       "      <td>456</td>\n",
       "      <td>0</td>\n",
       "    </tr>\n",
       "    <tr>\n",
       "      <td>Delhi</td>\n",
       "      <td>0</td>\n",
       "      <td>5682</td>\n",
       "      <td>0</td>\n",
       "      <td>0</td>\n",
       "      <td>0</td>\n",
       "      <td>0</td>\n",
       "    </tr>\n",
       "    <tr>\n",
       "      <td>Kolkata</td>\n",
       "      <td>3581</td>\n",
       "      <td>0</td>\n",
       "      <td>0</td>\n",
       "      <td>0</td>\n",
       "      <td>0</td>\n",
       "      <td>0</td>\n",
       "    </tr>\n",
       "    <tr>\n",
       "      <td>Mumbai</td>\n",
       "      <td>0</td>\n",
       "      <td>0</td>\n",
       "      <td>0</td>\n",
       "      <td>883</td>\n",
       "      <td>0</td>\n",
       "      <td>0</td>\n",
       "    </tr>\n",
       "  </tbody>\n",
       "</table>\n",
       "</div>"
      ],
      "text/plain": [
       "Destination  Banglore  Cochin  Delhi  Hyderabad  Kolkata  New Delhi\n",
       "Source                                                             \n",
       "Banglore            0       0   1582          0        0       1170\n",
       "Chennai             0       0      0          0      456          0\n",
       "Delhi               0    5682      0          0        0          0\n",
       "Kolkata          3581       0      0          0        0          0\n",
       "Mumbai              0       0      0        883        0          0"
      ]
     },
     "execution_count": 38,
     "metadata": {},
     "output_type": "execute_result"
    }
   ],
   "source": [
    "## mostly flights bw delhi and cochin\n",
    "pd.crosstab(df['Source'],df['Destination'])"
   ]
  },
  {
   "cell_type": "code",
   "execution_count": 39,
   "metadata": {},
   "outputs": [
    {
     "name": "stdout",
     "output_type": "stream",
     "text": [
      "No info                         10493\n",
      "In-flight meal not included      2426\n",
      "No check-in baggage included      396\n",
      "1 Long layover                     20\n",
      "Change airports                     8\n",
      "Business class                      5\n",
      "No Info                             3\n",
      "2 Long layover                      1\n",
      "Red-eye flight                      1\n",
      "1 Short layover                     1\n",
      "Name: Additional_Info, dtype: int64\n",
      "AxesSubplot(0.125,0.125;0.775x0.755)\n"
     ]
    },
    {
     "data": {
      "image/png": "[encoded data removed]",
      "text/plain": [
       "<Figure size 432x288 with 1 Axes>"
      ]
     },
     "metadata": {
      "needs_background": "light"
     },
     "output_type": "display_data"
    }
   ],
   "source": [
    "print(df['Additional_Info'].value_counts())\n",
    "print(sns.countplot(y=df['Additional_Info']))"
   ]
  },
  {
   "cell_type": "code",
   "execution_count": 40,
   "metadata": {},
   "outputs": [
    {
     "data": {
      "text/plain": [
       "<matplotlib.axes._subplots.AxesSubplot at 0x2001a21d5c8>"
      ]
     },
     "execution_count": 40,
     "metadata": {},
     "output_type": "execute_result"
    },
    {
     "data": {
      "image/png": "[encoded data removed]",
      "text/plain": [
       "<Figure size 1080x432 with 1 Axes>"
      ]
     },
     "metadata": {
      "needs_background": "light"
     },
     "output_type": "display_data"
    }
   ],
   "source": [
    "plt.figure(figsize=(15,6))\n",
    "sns.boxplot(y=df['Additional_Info'],x=df['Price'])"
   ]
  },
  {
   "cell_type": "code",
   "execution_count": 41,
   "metadata": {},
   "outputs": [
    {
     "data": {
      "text/html": [
       "<div>\n",
       "<style scoped>\n",
       "    .dataframe tbody tr th:only-of-type {\n",
       "        vertical-align: middle;\n",
       "    }\n",
       "\n",
       "    .dataframe tbody tr th {\n",
       "        vertical-align: top;\n",
       "    }\n",
       "\n",
       "    .dataframe thead th {\n",
       "        text-align: right;\n",
       "    }\n",
       "</style>\n",
       "<table border=\"1\" class=\"dataframe\">\n",
       "  <thead>\n",
       "    <tr style=\"text-align: right;\">\n",
       "      <th>Airline</th>\n",
       "      <th>0</th>\n",
       "      <th>1</th>\n",
       "      <th>2</th>\n",
       "      <th>3</th>\n",
       "      <th>4</th>\n",
       "      <th>5</th>\n",
       "      <th>6</th>\n",
       "      <th>7</th>\n",
       "      <th>8</th>\n",
       "      <th>9</th>\n",
       "      <th>10</th>\n",
       "      <th>11</th>\n",
       "    </tr>\n",
       "    <tr>\n",
       "      <th>Additional_Info</th>\n",
       "      <th></th>\n",
       "      <th></th>\n",
       "      <th></th>\n",
       "      <th></th>\n",
       "      <th></th>\n",
       "      <th></th>\n",
       "      <th></th>\n",
       "      <th></th>\n",
       "      <th></th>\n",
       "      <th></th>\n",
       "      <th></th>\n",
       "      <th></th>\n",
       "    </tr>\n",
       "  </thead>\n",
       "  <tbody>\n",
       "    <tr>\n",
       "      <td>1 Long layover</td>\n",
       "      <td>0</td>\n",
       "      <td>6</td>\n",
       "      <td>0</td>\n",
       "      <td>0</td>\n",
       "      <td>13</td>\n",
       "      <td>0</td>\n",
       "      <td>0</td>\n",
       "      <td>0</td>\n",
       "      <td>1</td>\n",
       "      <td>0</td>\n",
       "      <td>0</td>\n",
       "      <td>0</td>\n",
       "    </tr>\n",
       "    <tr>\n",
       "      <td>1 Short layover</td>\n",
       "      <td>0</td>\n",
       "      <td>1</td>\n",
       "      <td>0</td>\n",
       "      <td>0</td>\n",
       "      <td>0</td>\n",
       "      <td>0</td>\n",
       "      <td>0</td>\n",
       "      <td>0</td>\n",
       "      <td>0</td>\n",
       "      <td>0</td>\n",
       "      <td>0</td>\n",
       "      <td>0</td>\n",
       "    </tr>\n",
       "    <tr>\n",
       "      <td>2 Long layover</td>\n",
       "      <td>0</td>\n",
       "      <td>1</td>\n",
       "      <td>0</td>\n",
       "      <td>0</td>\n",
       "      <td>0</td>\n",
       "      <td>0</td>\n",
       "      <td>0</td>\n",
       "      <td>0</td>\n",
       "      <td>0</td>\n",
       "      <td>0</td>\n",
       "      <td>0</td>\n",
       "      <td>0</td>\n",
       "    </tr>\n",
       "    <tr>\n",
       "      <td>Business class</td>\n",
       "      <td>0</td>\n",
       "      <td>0</td>\n",
       "      <td>0</td>\n",
       "      <td>0</td>\n",
       "      <td>1</td>\n",
       "      <td>4</td>\n",
       "      <td>0</td>\n",
       "      <td>0</td>\n",
       "      <td>0</td>\n",
       "      <td>0</td>\n",
       "      <td>0</td>\n",
       "      <td>0</td>\n",
       "    </tr>\n",
       "    <tr>\n",
       "      <td>Change airports</td>\n",
       "      <td>0</td>\n",
       "      <td>8</td>\n",
       "      <td>0</td>\n",
       "      <td>0</td>\n",
       "      <td>0</td>\n",
       "      <td>0</td>\n",
       "      <td>0</td>\n",
       "      <td>0</td>\n",
       "      <td>0</td>\n",
       "      <td>0</td>\n",
       "      <td>0</td>\n",
       "      <td>0</td>\n",
       "    </tr>\n",
       "    <tr>\n",
       "      <td>In-flight meal not included</td>\n",
       "      <td>0</td>\n",
       "      <td>0</td>\n",
       "      <td>0</td>\n",
       "      <td>0</td>\n",
       "      <td>2313</td>\n",
       "      <td>0</td>\n",
       "      <td>113</td>\n",
       "      <td>0</td>\n",
       "      <td>0</td>\n",
       "      <td>0</td>\n",
       "      <td>0</td>\n",
       "      <td>0</td>\n",
       "    </tr>\n",
       "    <tr>\n",
       "      <td>No Info</td>\n",
       "      <td>0</td>\n",
       "      <td>0</td>\n",
       "      <td>0</td>\n",
       "      <td>3</td>\n",
       "      <td>0</td>\n",
       "      <td>0</td>\n",
       "      <td>0</td>\n",
       "      <td>0</td>\n",
       "      <td>0</td>\n",
       "      <td>0</td>\n",
       "      <td>0</td>\n",
       "      <td>0</td>\n",
       "    </tr>\n",
       "    <tr>\n",
       "      <td>No check-in baggage included</td>\n",
       "      <td>0</td>\n",
       "      <td>0</td>\n",
       "      <td>0</td>\n",
       "      <td>0</td>\n",
       "      <td>0</td>\n",
       "      <td>0</td>\n",
       "      <td>0</td>\n",
       "      <td>0</td>\n",
       "      <td>396</td>\n",
       "      <td>0</td>\n",
       "      <td>0</td>\n",
       "      <td>0</td>\n",
       "    </tr>\n",
       "    <tr>\n",
       "      <td>No info</td>\n",
       "      <td>404</td>\n",
       "      <td>2176</td>\n",
       "      <td>240</td>\n",
       "      <td>2561</td>\n",
       "      <td>2419</td>\n",
       "      <td>4</td>\n",
       "      <td>1430</td>\n",
       "      <td>16</td>\n",
       "      <td>629</td>\n",
       "      <td>1</td>\n",
       "      <td>608</td>\n",
       "      <td>5</td>\n",
       "    </tr>\n",
       "    <tr>\n",
       "      <td>Red-eye flight</td>\n",
       "      <td>1</td>\n",
       "      <td>0</td>\n",
       "      <td>0</td>\n",
       "      <td>0</td>\n",
       "      <td>0</td>\n",
       "      <td>0</td>\n",
       "      <td>0</td>\n",
       "      <td>0</td>\n",
       "      <td>0</td>\n",
       "      <td>0</td>\n",
       "      <td>0</td>\n",
       "      <td>0</td>\n",
       "    </tr>\n",
       "  </tbody>\n",
       "</table>\n",
       "</div>"
      ],
      "text/plain": [
       "Airline                        0     1    2     3     4   5     6   7    8   \\\n",
       "Additional_Info                                                               \n",
       "1 Long layover                  0     6    0     0    13   0     0   0    1   \n",
       "1 Short layover                 0     1    0     0     0   0     0   0    0   \n",
       "2 Long layover                  0     1    0     0     0   0     0   0    0   \n",
       "Business class                  0     0    0     0     1   4     0   0    0   \n",
       "Change airports                 0     8    0     0     0   0     0   0    0   \n",
       "In-flight meal not included     0     0    0     0  2313   0   113   0    0   \n",
       "No Info                         0     0    0     3     0   0     0   0    0   \n",
       "No check-in baggage included    0     0    0     0     0   0     0   0  396   \n",
       "No info                       404  2176  240  2561  2419   4  1430  16  629   \n",
       "Red-eye flight                  1     0    0     0     0   0     0   0    0   \n",
       "\n",
       "Airline                       9    10  11  \n",
       "Additional_Info                            \n",
       "1 Long layover                 0    0   0  \n",
       "1 Short layover                0    0   0  \n",
       "2 Long layover                 0    0   0  \n",
       "Business class                 0    0   0  \n",
       "Change airports                0    0   0  \n",
       "In-flight meal not included    0    0   0  \n",
       "No Info                        0    0   0  \n",
       "No check-in baggage included   0    0   0  \n",
       "No info                        1  608   5  \n",
       "Red-eye flight                 0    0   0  "
      ]
     },
     "execution_count": 41,
     "metadata": {},
     "output_type": "execute_result"
    }
   ],
   "source": [
    "pd.crosstab(df['Additional_Info'],df['Airline'])"
   ]
  },
  {
   "cell_type": "code",
   "execution_count": 42,
   "metadata": {},
   "outputs": [
    {
     "data": {
      "text/html": [
       "<div>\n",
       "<style scoped>\n",
       "    .dataframe tbody tr th:only-of-type {\n",
       "        vertical-align: middle;\n",
       "    }\n",
       "\n",
       "    .dataframe tbody tr th {\n",
       "        vertical-align: top;\n",
       "    }\n",
       "\n",
       "    .dataframe thead th {\n",
       "        text-align: right;\n",
       "    }\n",
       "</style>\n",
       "<table border=\"1\" class=\"dataframe\">\n",
       "  <thead>\n",
       "    <tr style=\"text-align: right;\">\n",
       "      <th>Airline</th>\n",
       "      <th>0</th>\n",
       "      <th>1</th>\n",
       "      <th>2</th>\n",
       "      <th>3</th>\n",
       "      <th>4</th>\n",
       "      <th>5</th>\n",
       "      <th>6</th>\n",
       "      <th>7</th>\n",
       "      <th>8</th>\n",
       "      <th>9</th>\n",
       "      <th>10</th>\n",
       "      <th>11</th>\n",
       "    </tr>\n",
       "    <tr>\n",
       "      <th>Source</th>\n",
       "      <th></th>\n",
       "      <th></th>\n",
       "      <th></th>\n",
       "      <th></th>\n",
       "      <th></th>\n",
       "      <th></th>\n",
       "      <th></th>\n",
       "      <th></th>\n",
       "      <th></th>\n",
       "      <th></th>\n",
       "      <th></th>\n",
       "      <th></th>\n",
       "    </tr>\n",
       "  </thead>\n",
       "  <tbody>\n",
       "    <tr>\n",
       "      <td>Banglore</td>\n",
       "      <td>111</td>\n",
       "      <td>413</td>\n",
       "      <td>116</td>\n",
       "      <td>647</td>\n",
       "      <td>986</td>\n",
       "      <td>6</td>\n",
       "      <td>0</td>\n",
       "      <td>0</td>\n",
       "      <td>224</td>\n",
       "      <td>0</td>\n",
       "      <td>245</td>\n",
       "      <td>4</td>\n",
       "    </tr>\n",
       "    <tr>\n",
       "      <td>Chennai</td>\n",
       "      <td>0</td>\n",
       "      <td>30</td>\n",
       "      <td>0</td>\n",
       "      <td>214</td>\n",
       "      <td>0</td>\n",
       "      <td>0</td>\n",
       "      <td>0</td>\n",
       "      <td>0</td>\n",
       "      <td>162</td>\n",
       "      <td>0</td>\n",
       "      <td>49</td>\n",
       "      <td>1</td>\n",
       "    </tr>\n",
       "    <tr>\n",
       "      <td>Delhi</td>\n",
       "      <td>100</td>\n",
       "      <td>933</td>\n",
       "      <td>92</td>\n",
       "      <td>901</td>\n",
       "      <td>1931</td>\n",
       "      <td>2</td>\n",
       "      <td>1543</td>\n",
       "      <td>16</td>\n",
       "      <td>106</td>\n",
       "      <td>0</td>\n",
       "      <td>58</td>\n",
       "      <td>0</td>\n",
       "    </tr>\n",
       "    <tr>\n",
       "      <td>Kolkata</td>\n",
       "      <td>194</td>\n",
       "      <td>640</td>\n",
       "      <td>32</td>\n",
       "      <td>557</td>\n",
       "      <td>1560</td>\n",
       "      <td>0</td>\n",
       "      <td>0</td>\n",
       "      <td>0</td>\n",
       "      <td>371</td>\n",
       "      <td>0</td>\n",
       "      <td>227</td>\n",
       "      <td>0</td>\n",
       "    </tr>\n",
       "    <tr>\n",
       "      <td>Mumbai</td>\n",
       "      <td>0</td>\n",
       "      <td>176</td>\n",
       "      <td>0</td>\n",
       "      <td>245</td>\n",
       "      <td>269</td>\n",
       "      <td>0</td>\n",
       "      <td>0</td>\n",
       "      <td>0</td>\n",
       "      <td>163</td>\n",
       "      <td>1</td>\n",
       "      <td>29</td>\n",
       "      <td>0</td>\n",
       "    </tr>\n",
       "  </tbody>\n",
       "</table>\n",
       "</div>"
      ],
      "text/plain": [
       "Airline    0    1    2    3     4   5     6   7    8   9    10  11\n",
       "Source                                                            \n",
       "Banglore  111  413  116  647   986   6     0   0  224   0  245   4\n",
       "Chennai     0   30    0  214     0   0     0   0  162   0   49   1\n",
       "Delhi     100  933   92  901  1931   2  1543  16  106   0   58   0\n",
       "Kolkata   194  640   32  557  1560   0     0   0  371   0  227   0\n",
       "Mumbai      0  176    0  245   269   0     0   0  163   1   29   0"
      ]
     },
     "execution_count": 42,
     "metadata": {},
     "output_type": "execute_result"
    }
   ],
   "source": [
    "pd.crosstab(df['Source'],df['Airline'])"
   ]
  },
  {
   "cell_type": "code",
   "execution_count": 43,
   "metadata": {},
   "outputs": [
    {
     "name": "stdout",
     "output_type": "stream",
     "text": [
      "1.0    7056\n",
      "0.0    4341\n",
      "2.0    1899\n",
      "3.0      56\n",
      "4.0       2\n",
      "Name: Total_Stops, dtype: int64\n",
      "AxesSubplot(0.125,0.125;0.775x0.755)\n"
     ]
    },
    {
     "data": {
      "image/png": "[encoded data removed]",
      "text/plain": [
       "<Figure size 432x288 with 1 Axes>"
      ]
     },
     "metadata": {
      "needs_background": "light"
     },
     "output_type": "display_data"
    }
   ],
   "source": [
    "print(df['Total_Stops'].value_counts())\n",
    "print(sns.countplot(df['Total_Stops']))"
   ]
  },
  {
   "cell_type": "code",
   "execution_count": 44,
   "metadata": {},
   "outputs": [
    {
     "data": {
      "text/plain": [
       "<matplotlib.axes._subplots.AxesSubplot at 0x2001a3aff48>"
      ]
     },
     "execution_count": 44,
     "metadata": {},
     "output_type": "execute_result"
    },
    {
     "data": {
      "image/png": "[encoded data removed]",
      "text/plain": [
       "<Figure size 576x432 with 1 Axes>"
      ]
     },
     "metadata": {
      "needs_background": "light"
     },
     "output_type": "display_data"
    }
   ],
   "source": [
    "plt.figure(figsize=(8,6))\n",
    "sns.barplot(x=df['Total_Stops'],y=df['Price'])"
   ]
  },
  {
   "cell_type": "code",
   "execution_count": 45,
   "metadata": {},
   "outputs": [
    {
     "data": {
      "text/plain": [
       "Index(['Additional_Info', 'Airline', 'Arrival_Time', 'Date_of_Journey',\n",
       "       'Dep_Time', 'Destination', 'Duration', 'Price', 'Route', 'Source',\n",
       "       'Total_Stops', 'source'],\n",
       "      dtype='object')"
      ]
     },
     "execution_count": 45,
     "metadata": {},
     "output_type": "execute_result"
    }
   ],
   "source": [
    "df.columns"
   ]
  },
  {
   "cell_type": "code",
   "execution_count": 46,
   "metadata": {},
   "outputs": [],
   "source": [
    "## converting into date time feature for more exploration amongst dataset \n",
    "df['Date_of_Journey'] = pd.to_datetime(df['Date_of_Journey'])\n",
    "df['year_of_journey']=df['Date_of_Journey'].dt.year\n",
    "df['Month_journey'] = df['Date_of_Journey'].dt.month\n",
    "df['Day_Journey'] = df['Date_of_Journey'].dt.day\n"
   ]
  },
  {
   "cell_type": "code",
   "execution_count": 47,
   "metadata": {},
   "outputs": [],
   "source": [
    "df.drop('Date_of_Journey',axis=1,inplace=True)"
   ]
  },
  {
   "cell_type": "code",
   "execution_count": 48,
   "metadata": {},
   "outputs": [
    {
     "data": {
      "text/plain": [
       "array([ 3,  1,  9, 12,  6,  5,  4], dtype=int64)"
      ]
     },
     "execution_count": 48,
     "metadata": {},
     "output_type": "execute_result"
    }
   ],
   "source": [
    "df['Month_journey'].unique()"
   ]
  },
  {
   "cell_type": "code",
   "execution_count": 49,
   "metadata": {},
   "outputs": [
    {
     "data": {
      "text/plain": [
       "<matplotlib.axes._subplots.AxesSubplot at 0x2001a4b8788>"
      ]
     },
     "execution_count": 49,
     "metadata": {},
     "output_type": "execute_result"
    },
    {
     "data": {
      "image/png": "[encoded data removed]",
      "text/plain": [
       "<Figure size 432x288 with 1 Axes>"
      ]
     },
     "metadata": {
      "needs_background": "light"
     },
     "output_type": "display_data"
    }
   ],
   "source": [
    "sns.barplot(y=df['Price'],x=df['Month_journey'])"
   ]
  },
  {
   "cell_type": "code",
   "execution_count": 50,
   "metadata": {},
   "outputs": [
    {
     "data": {
      "text/plain": [
       "<matplotlib.axes._subplots.AxesSubplot at 0x2001a5322c8>"
      ]
     },
     "execution_count": 50,
     "metadata": {},
     "output_type": "execute_result"
    },
    {
     "data": {
      "image/png": "[encoded data removed]",
      "text/plain": [
       "<Figure size 432x288 with 1 Axes>"
      ]
     },
     "metadata": {
      "needs_background": "light"
     },
     "output_type": "display_data"
    }
   ],
   "source": [
    "sns.barplot(y=df['Price'],x=df['year_of_journey'])"
   ]
  },
  {
   "cell_type": "code",
   "execution_count": 51,
   "metadata": {},
   "outputs": [
    {
     "data": {
      "text/plain": [
       "<matplotlib.axes._subplots.AxesSubplot at 0x2001a5187c8>"
      ]
     },
     "execution_count": 51,
     "metadata": {},
     "output_type": "execute_result"
    },
    {
     "data": {
      "image/png": "[encoded data removed]",
      "text/plain": [
       "<Figure size 720x432 with 1 Axes>"
      ]
     },
     "metadata": {
      "needs_background": "light"
     },
     "output_type": "display_data"
    }
   ],
   "source": [
    "plt.figure(figsize=(10,6))\n",
    "sns.violinplot(y=df['Price'],x=df['Day_Journey'])"
   ]
  },
  {
   "cell_type": "code",
   "execution_count": 52,
   "metadata": {},
   "outputs": [
    {
     "data": {
      "image/png": "[encoded data removed]",
      "text/plain": [
       "<Figure size 720x720 with 6 Axes>"
      ]
     },
     "metadata": {
      "needs_background": "light"
     },
     "output_type": "display_data"
    }
   ],
   "source": [
    "df.hist(figsize=(10,10))\n",
    "plt.show()"
   ]
  },
  {
   "cell_type": "code",
   "execution_count": 53,
   "metadata": {},
   "outputs": [
    {
     "data": {
      "text/plain": [
       "<matplotlib.axes._subplots.AxesSubplot at 0x2001aae39c8>"
      ]
     },
     "execution_count": 53,
     "metadata": {},
     "output_type": "execute_result"
    },
    {
     "data": {
      "image/png": "[encoded data removed]",
      "text/plain": [
       "<Figure size 432x288 with 1 Axes>"
      ]
     },
     "metadata": {
      "needs_background": "light"
     },
     "output_type": "display_data"
    }
   ],
   "source": [
    "sns.scatterplot(df['Duration'],df['Price'])"
   ]
  },
  {
   "cell_type": "code",
   "execution_count": 54,
   "metadata": {},
   "outputs": [
    {
     "data": {
      "text/plain": [
       "<matplotlib.axes._subplots.AxesSubplot at 0x2001c900a88>"
      ]
     },
     "execution_count": 54,
     "metadata": {},
     "output_type": "execute_result"
    },
    {
     "data": {
      "image/png": "[encoded data removed]",
      "text/plain": [
       "<Figure size 432x288 with 1 Axes>"
      ]
     },
     "metadata": {
      "needs_background": "light"
     },
     "output_type": "display_data"
    }
   ],
   "source": [
    "sns.scatterplot(df['Airline'],df['Price'])"
   ]
  },
  {
   "cell_type": "code",
   "execution_count": 55,
   "metadata": {},
   "outputs": [
    {
     "data": {
      "text/plain": [
       "<matplotlib.axes._subplots.AxesSubplot at 0x2001aee7ec8>"
      ]
     },
     "execution_count": 55,
     "metadata": {},
     "output_type": "execute_result"
    },
    {
     "data": {
      "image/png": "[encoded data removed]",
      "text/plain": [
       "<Figure size 432x288 with 1 Axes>"
      ]
     },
     "metadata": {
      "needs_background": "light"
     },
     "output_type": "display_data"
    }
   ],
   "source": [
    "sns.scatterplot(df['Total_Stops'],df['Price'])"
   ]
  },
  {
   "cell_type": "code",
   "execution_count": 56,
   "metadata": {},
   "outputs": [
    {
     "data": {
      "text/plain": [
       "<matplotlib.axes._subplots.AxesSubplot at 0x2001aa8bfc8>"
      ]
     },
     "execution_count": 56,
     "metadata": {},
     "output_type": "execute_result"
    },
    {
     "data": {
      "image/png": "[encoded data removed]",
      "text/plain": [
       "<Figure size 432x288 with 1 Axes>"
      ]
     },
     "metadata": {
      "needs_background": "light"
     },
     "output_type": "display_data"
    }
   ],
   "source": [
    "sns.scatterplot(y=df['Price'],x=df['Month_journey'])"
   ]
  },
  {
   "cell_type": "code",
   "execution_count": 57,
   "metadata": {},
   "outputs": [
    {
     "data": {
      "text/html": [
       "<div>\n",
       "<style scoped>\n",
       "    .dataframe tbody tr th:only-of-type {\n",
       "        vertical-align: middle;\n",
       "    }\n",
       "\n",
       "    .dataframe tbody tr th {\n",
       "        vertical-align: top;\n",
       "    }\n",
       "\n",
       "    .dataframe thead th {\n",
       "        text-align: right;\n",
       "    }\n",
       "</style>\n",
       "<table border=\"1\" class=\"dataframe\">\n",
       "  <thead>\n",
       "    <tr style=\"text-align: right;\">\n",
       "      <th></th>\n",
       "      <th>Additional_Info</th>\n",
       "      <th>Airline</th>\n",
       "      <th>Arrival_Time</th>\n",
       "      <th>Dep_Time</th>\n",
       "      <th>Destination</th>\n",
       "      <th>Duration</th>\n",
       "      <th>Price</th>\n",
       "      <th>Route</th>\n",
       "      <th>Source</th>\n",
       "      <th>Total_Stops</th>\n",
       "      <th>source</th>\n",
       "      <th>year_of_journey</th>\n",
       "      <th>Month_journey</th>\n",
       "      <th>Day_Journey</th>\n",
       "    </tr>\n",
       "  </thead>\n",
       "  <tbody>\n",
       "    <tr>\n",
       "      <td>0</td>\n",
       "      <td>No info</td>\n",
       "      <td>3</td>\n",
       "      <td>01:10 22 Mar</td>\n",
       "      <td>22:20</td>\n",
       "      <td>New Delhi</td>\n",
       "      <td>2h 50m</td>\n",
       "      <td>3897.0</td>\n",
       "      <td>BLR → DEL</td>\n",
       "      <td>Banglore</td>\n",
       "      <td>0.0</td>\n",
       "      <td>train</td>\n",
       "      <td>2019</td>\n",
       "      <td>3</td>\n",
       "      <td>24</td>\n",
       "    </tr>\n",
       "    <tr>\n",
       "      <td>1</td>\n",
       "      <td>No info</td>\n",
       "      <td>1</td>\n",
       "      <td>13:15</td>\n",
       "      <td>05:50</td>\n",
       "      <td>Banglore</td>\n",
       "      <td>7h 25m</td>\n",
       "      <td>7662.0</td>\n",
       "      <td>CCU → IXR → BBI → BLR</td>\n",
       "      <td>Kolkata</td>\n",
       "      <td>2.0</td>\n",
       "      <td>train</td>\n",
       "      <td>2019</td>\n",
       "      <td>1</td>\n",
       "      <td>5</td>\n",
       "    </tr>\n",
       "    <tr>\n",
       "      <td>2</td>\n",
       "      <td>No info</td>\n",
       "      <td>4</td>\n",
       "      <td>04:25 10 Jun</td>\n",
       "      <td>09:25</td>\n",
       "      <td>Cochin</td>\n",
       "      <td>19h</td>\n",
       "      <td>13882.0</td>\n",
       "      <td>DEL → LKO → BOM → COK</td>\n",
       "      <td>Delhi</td>\n",
       "      <td>2.0</td>\n",
       "      <td>train</td>\n",
       "      <td>2019</td>\n",
       "      <td>9</td>\n",
       "      <td>6</td>\n",
       "    </tr>\n",
       "    <tr>\n",
       "      <td>3</td>\n",
       "      <td>No info</td>\n",
       "      <td>3</td>\n",
       "      <td>23:30</td>\n",
       "      <td>18:05</td>\n",
       "      <td>Banglore</td>\n",
       "      <td>5h 25m</td>\n",
       "      <td>6218.0</td>\n",
       "      <td>CCU → NAG → BLR</td>\n",
       "      <td>Kolkata</td>\n",
       "      <td>1.0</td>\n",
       "      <td>train</td>\n",
       "      <td>2019</td>\n",
       "      <td>12</td>\n",
       "      <td>5</td>\n",
       "    </tr>\n",
       "    <tr>\n",
       "      <td>4</td>\n",
       "      <td>No info</td>\n",
       "      <td>3</td>\n",
       "      <td>21:35</td>\n",
       "      <td>16:50</td>\n",
       "      <td>New Delhi</td>\n",
       "      <td>4h 45m</td>\n",
       "      <td>13302.0</td>\n",
       "      <td>BLR → NAG → DEL</td>\n",
       "      <td>Banglore</td>\n",
       "      <td>1.0</td>\n",
       "      <td>train</td>\n",
       "      <td>2019</td>\n",
       "      <td>1</td>\n",
       "      <td>3</td>\n",
       "    </tr>\n",
       "  </tbody>\n",
       "</table>\n",
       "</div>"
      ],
      "text/plain": [
       "  Additional_Info  Airline  Arrival_Time Dep_Time Destination Duration  \\\n",
       "0         No info        3  01:10 22 Mar    22:20   New Delhi   2h 50m   \n",
       "1         No info        1         13:15    05:50    Banglore   7h 25m   \n",
       "2         No info        4  04:25 10 Jun    09:25      Cochin      19h   \n",
       "3         No info        3         23:30    18:05    Banglore   5h 25m   \n",
       "4         No info        3         21:35    16:50   New Delhi   4h 45m   \n",
       "\n",
       "     Price                  Route    Source  Total_Stops source  \\\n",
       "0   3897.0              BLR → DEL  Banglore          0.0  train   \n",
       "1   7662.0  CCU → IXR → BBI → BLR   Kolkata          2.0  train   \n",
       "2  13882.0  DEL → LKO → BOM → COK     Delhi          2.0  train   \n",
       "3   6218.0        CCU → NAG → BLR   Kolkata          1.0  train   \n",
       "4  13302.0        BLR → NAG → DEL  Banglore          1.0  train   \n",
       "\n",
       "   year_of_journey  Month_journey  Day_Journey  \n",
       "0             2019              3           24  \n",
       "1             2019              1            5  \n",
       "2             2019              9            6  \n",
       "3             2019             12            5  \n",
       "4             2019              1            3  "
      ]
     },
     "execution_count": 57,
     "metadata": {},
     "output_type": "execute_result"
    }
   ],
   "source": [
    "df.head()"
   ]
  },
  {
   "cell_type": "code",
   "execution_count": 58,
   "metadata": {},
   "outputs": [
    {
     "data": {
      "text/plain": [
       "Airline            0.720924\n",
       "Price              1.812552\n",
       "Total_Stops        0.317940\n",
       "year_of_journey    0.000000\n",
       "Month_journey      0.621749\n",
       "Day_Journey        0.389526\n",
       "dtype: float64"
      ]
     },
     "execution_count": 58,
     "metadata": {},
     "output_type": "execute_result"
    }
   ],
   "source": [
    "## CHECKING THE SKEWNESS OF DATASET\n",
    "\n",
    "df.skew()"
   ]
  },
  {
   "cell_type": "code",
   "execution_count": 59,
   "metadata": {},
   "outputs": [],
   "source": [
    "## TRANSFORMING THE PRICE COLUMN BY LOG TRANSFORM\n",
    "df['Price']=np.log1p(df['Price'])"
   ]
  },
  {
   "cell_type": "code",
   "execution_count": 60,
   "metadata": {},
   "outputs": [
    {
     "data": {
      "text/plain": [
       "(10, 6)"
      ]
     },
     "execution_count": 60,
     "metadata": {},
     "output_type": "execute_result"
    }
   ],
   "source": [
    "df['Additional_Info'].nunique(),df['Destination'].nunique()"
   ]
  },
  {
   "cell_type": "code",
   "execution_count": 61,
   "metadata": {},
   "outputs": [],
   "source": [
    "###  LABEL ENCODING THE DATAS SET FOR MODEL FITTING\n",
    "df['Additional_Info']=le.fit_transform(df['Additional_Info'])\n",
    "df['Source']=le.fit_transform(df['Source'])\n",
    "df['Destination']=le.fit_transform(df['Destination'])\n",
    "df['Route']=le.fit_transform(df['Route'])\n",
    "df['Duration']=le.fit_transform(df['Duration'])"
   ]
  },
  {
   "cell_type": "code",
   "execution_count": 62,
   "metadata": {},
   "outputs": [
    {
     "data": {
      "text/plain": [
       "Additional_Info      int32\n",
       "Airline              int32\n",
       "Arrival_Time        object\n",
       "Dep_Time            object\n",
       "Destination          int32\n",
       "Duration             int32\n",
       "Price              float64\n",
       "Route                int32\n",
       "Source               int32\n",
       "Total_Stops        float64\n",
       "source              object\n",
       "year_of_journey      int64\n",
       "Month_journey        int64\n",
       "Day_Journey          int64\n",
       "dtype: object"
      ]
     },
     "execution_count": 62,
     "metadata": {},
     "output_type": "execute_result"
    }
   ],
   "source": [
    "df.dtypes"
   ]
  },
  {
   "cell_type": "code",
   "execution_count": 63,
   "metadata": {},
   "outputs": [],
   "source": [
    "df['Dep_Time']=le.fit_transform(df['Dep_Time'])\n",
    "df['Arrival_Time']=le.fit_transform(df['Arrival_Time'])"
   ]
  },
  {
   "cell_type": "code",
   "execution_count": 64,
   "metadata": {},
   "outputs": [
    {
     "data": {
      "text/html": [
       "<div>\n",
       "<style scoped>\n",
       "    .dataframe tbody tr th:only-of-type {\n",
       "        vertical-align: middle;\n",
       "    }\n",
       "\n",
       "    .dataframe tbody tr th {\n",
       "        vertical-align: top;\n",
       "    }\n",
       "\n",
       "    .dataframe thead th {\n",
       "        text-align: right;\n",
       "    }\n",
       "</style>\n",
       "<table border=\"1\" class=\"dataframe\">\n",
       "  <thead>\n",
       "    <tr style=\"text-align: right;\">\n",
       "      <th></th>\n",
       "      <th>Additional_Info</th>\n",
       "      <th>Airline</th>\n",
       "      <th>Arrival_Time</th>\n",
       "      <th>Dep_Time</th>\n",
       "      <th>Destination</th>\n",
       "      <th>Duration</th>\n",
       "      <th>Price</th>\n",
       "      <th>Route</th>\n",
       "      <th>Source</th>\n",
       "      <th>Total_Stops</th>\n",
       "      <th>year_of_journey</th>\n",
       "      <th>Month_journey</th>\n",
       "      <th>Day_Journey</th>\n",
       "    </tr>\n",
       "  </thead>\n",
       "  <tbody>\n",
       "    <tr>\n",
       "      <td>Additional_Info</td>\n",
       "      <td>1.000000</td>\n",
       "      <td>-0.058533</td>\n",
       "      <td>0.012747</td>\n",
       "      <td>-0.056115</td>\n",
       "      <td>0.027398</td>\n",
       "      <td>0.074230</td>\n",
       "      <td>-0.091832</td>\n",
       "      <td>0.036037</td>\n",
       "      <td>-0.022219</td>\n",
       "      <td>-0.079143</td>\n",
       "      <td>NaN</td>\n",
       "      <td>-0.008769</td>\n",
       "      <td>-0.020467</td>\n",
       "    </tr>\n",
       "    <tr>\n",
       "      <td>Airline</td>\n",
       "      <td>-0.058533</td>\n",
       "      <td>1.000000</td>\n",
       "      <td>-0.018385</td>\n",
       "      <td>-0.030363</td>\n",
       "      <td>0.022130</td>\n",
       "      <td>0.028354</td>\n",
       "      <td>-0.065391</td>\n",
       "      <td>0.020447</td>\n",
       "      <td>-0.018547</td>\n",
       "      <td>-0.206200</td>\n",
       "      <td>NaN</td>\n",
       "      <td>-0.005482</td>\n",
       "      <td>0.025635</td>\n",
       "    </tr>\n",
       "    <tr>\n",
       "      <td>Arrival_Time</td>\n",
       "      <td>0.012747</td>\n",
       "      <td>-0.018385</td>\n",
       "      <td>1.000000</td>\n",
       "      <td>-0.029682</td>\n",
       "      <td>-0.029959</td>\n",
       "      <td>0.032591</td>\n",
       "      <td>0.065588</td>\n",
       "      <td>0.009594</td>\n",
       "      <td>0.016779</td>\n",
       "      <td>0.046195</td>\n",
       "      <td>NaN</td>\n",
       "      <td>0.001420</td>\n",
       "      <td>0.004403</td>\n",
       "    </tr>\n",
       "    <tr>\n",
       "      <td>Dep_Time</td>\n",
       "      <td>-0.056115</td>\n",
       "      <td>-0.030363</td>\n",
       "      <td>-0.029682</td>\n",
       "      <td>1.000000</td>\n",
       "      <td>-0.058119</td>\n",
       "      <td>0.046499</td>\n",
       "      <td>-0.012085</td>\n",
       "      <td>-0.090364</td>\n",
       "      <td>0.054033</td>\n",
       "      <td>-0.075704</td>\n",
       "      <td>NaN</td>\n",
       "      <td>0.023861</td>\n",
       "      <td>-0.007691</td>\n",
       "    </tr>\n",
       "    <tr>\n",
       "      <td>Destination</td>\n",
       "      <td>0.027398</td>\n",
       "      <td>0.022130</td>\n",
       "      <td>-0.029959</td>\n",
       "      <td>-0.058119</td>\n",
       "      <td>1.000000</td>\n",
       "      <td>0.012843</td>\n",
       "      <td>-0.169522</td>\n",
       "      <td>-0.475881</td>\n",
       "      <td>-0.589710</td>\n",
       "      <td>-0.294135</td>\n",
       "      <td>NaN</td>\n",
       "      <td>-0.104465</td>\n",
       "      <td>-0.046308</td>\n",
       "    </tr>\n",
       "    <tr>\n",
       "      <td>Duration</td>\n",
       "      <td>0.074230</td>\n",
       "      <td>0.028354</td>\n",
       "      <td>0.032591</td>\n",
       "      <td>0.046499</td>\n",
       "      <td>0.012843</td>\n",
       "      <td>1.000000</td>\n",
       "      <td>-0.149339</td>\n",
       "      <td>-0.057312</td>\n",
       "      <td>-0.185234</td>\n",
       "      <td>-0.170523</td>\n",
       "      <td>NaN</td>\n",
       "      <td>-0.031829</td>\n",
       "      <td>0.021571</td>\n",
       "    </tr>\n",
       "    <tr>\n",
       "      <td>Price</td>\n",
       "      <td>-0.091832</td>\n",
       "      <td>-0.065391</td>\n",
       "      <td>0.065588</td>\n",
       "      <td>-0.012085</td>\n",
       "      <td>-0.169522</td>\n",
       "      <td>-0.149339</td>\n",
       "      <td>1.000000</td>\n",
       "      <td>0.247445</td>\n",
       "      <td>0.017548</td>\n",
       "      <td>0.690593</td>\n",
       "      <td>NaN</td>\n",
       "      <td>0.045952</td>\n",
       "      <td>-0.145291</td>\n",
       "    </tr>\n",
       "    <tr>\n",
       "      <td>Route</td>\n",
       "      <td>0.036037</td>\n",
       "      <td>0.020447</td>\n",
       "      <td>0.009594</td>\n",
       "      <td>-0.090364</td>\n",
       "      <td>-0.475881</td>\n",
       "      <td>-0.057312</td>\n",
       "      <td>0.247445</td>\n",
       "      <td>1.000000</td>\n",
       "      <td>0.410124</td>\n",
       "      <td>0.458264</td>\n",
       "      <td>NaN</td>\n",
       "      <td>0.048985</td>\n",
       "      <td>0.086321</td>\n",
       "    </tr>\n",
       "    <tr>\n",
       "      <td>Source</td>\n",
       "      <td>-0.022219</td>\n",
       "      <td>-0.018547</td>\n",
       "      <td>0.016779</td>\n",
       "      <td>0.054033</td>\n",
       "      <td>-0.589710</td>\n",
       "      <td>-0.185234</td>\n",
       "      <td>0.017548</td>\n",
       "      <td>0.410124</td>\n",
       "      <td>1.000000</td>\n",
       "      <td>0.191129</td>\n",
       "      <td>NaN</td>\n",
       "      <td>0.060574</td>\n",
       "      <td>0.000833</td>\n",
       "    </tr>\n",
       "    <tr>\n",
       "      <td>Total_Stops</td>\n",
       "      <td>-0.079143</td>\n",
       "      <td>-0.206200</td>\n",
       "      <td>0.046195</td>\n",
       "      <td>-0.075704</td>\n",
       "      <td>-0.294135</td>\n",
       "      <td>-0.170523</td>\n",
       "      <td>0.690593</td>\n",
       "      <td>0.458264</td>\n",
       "      <td>0.191129</td>\n",
       "      <td>1.000000</td>\n",
       "      <td>NaN</td>\n",
       "      <td>0.068725</td>\n",
       "      <td>-0.027867</td>\n",
       "    </tr>\n",
       "    <tr>\n",
       "      <td>year_of_journey</td>\n",
       "      <td>NaN</td>\n",
       "      <td>NaN</td>\n",
       "      <td>NaN</td>\n",
       "      <td>NaN</td>\n",
       "      <td>NaN</td>\n",
       "      <td>NaN</td>\n",
       "      <td>NaN</td>\n",
       "      <td>NaN</td>\n",
       "      <td>NaN</td>\n",
       "      <td>NaN</td>\n",
       "      <td>NaN</td>\n",
       "      <td>NaN</td>\n",
       "      <td>NaN</td>\n",
       "    </tr>\n",
       "    <tr>\n",
       "      <td>Month_journey</td>\n",
       "      <td>-0.008769</td>\n",
       "      <td>-0.005482</td>\n",
       "      <td>0.001420</td>\n",
       "      <td>0.023861</td>\n",
       "      <td>-0.104465</td>\n",
       "      <td>-0.031829</td>\n",
       "      <td>0.045952</td>\n",
       "      <td>0.048985</td>\n",
       "      <td>0.060574</td>\n",
       "      <td>0.068725</td>\n",
       "      <td>NaN</td>\n",
       "      <td>1.000000</td>\n",
       "      <td>-0.263645</td>\n",
       "    </tr>\n",
       "    <tr>\n",
       "      <td>Day_Journey</td>\n",
       "      <td>-0.020467</td>\n",
       "      <td>0.025635</td>\n",
       "      <td>0.004403</td>\n",
       "      <td>-0.007691</td>\n",
       "      <td>-0.046308</td>\n",
       "      <td>0.021571</td>\n",
       "      <td>-0.145291</td>\n",
       "      <td>0.086321</td>\n",
       "      <td>0.000833</td>\n",
       "      <td>-0.027867</td>\n",
       "      <td>NaN</td>\n",
       "      <td>-0.263645</td>\n",
       "      <td>1.000000</td>\n",
       "    </tr>\n",
       "  </tbody>\n",
       "</table>\n",
       "</div>"
      ],
      "text/plain": [
       "                 Additional_Info   Airline  Arrival_Time  Dep_Time  \\\n",
       "Additional_Info         1.000000 -0.058533      0.012747 -0.056115   \n",
       "Airline                -0.058533  1.000000     -0.018385 -0.030363   \n",
       "Arrival_Time            0.012747 -0.018385      1.000000 -0.029682   \n",
       "Dep_Time               -0.056115 -0.030363     -0.029682  1.000000   \n",
       "Destination             0.027398  0.022130     -0.029959 -0.058119   \n",
       "Duration                0.074230  0.028354      0.032591  0.046499   \n",
       "Price                  -0.091832 -0.065391      0.065588 -0.012085   \n",
       "Route                   0.036037  0.020447      0.009594 -0.090364   \n",
       "Source                 -0.022219 -0.018547      0.016779  0.054033   \n",
       "Total_Stops            -0.079143 -0.206200      0.046195 -0.075704   \n",
       "year_of_journey              NaN       NaN           NaN       NaN   \n",
       "Month_journey          -0.008769 -0.005482      0.001420  0.023861   \n",
       "Day_Journey            -0.020467  0.025635      0.004403 -0.007691   \n",
       "\n",
       "                 Destination  Duration     Price     Route    Source  \\\n",
       "Additional_Info     0.027398  0.074230 -0.091832  0.036037 -0.022219   \n",
       "Airline             0.022130  0.028354 -0.065391  0.020447 -0.018547   \n",
       "Arrival_Time       -0.029959  0.032591  0.065588  0.009594  0.016779   \n",
       "Dep_Time           -0.058119  0.046499 -0.012085 -0.090364  0.054033   \n",
       "Destination         1.000000  0.012843 -0.169522 -0.475881 -0.589710   \n",
       "Duration            0.012843  1.000000 -0.149339 -0.057312 -0.185234   \n",
       "Price              -0.169522 -0.149339  1.000000  0.247445  0.017548   \n",
       "Route              -0.475881 -0.057312  0.247445  1.000000  0.410124   \n",
       "Source             -0.589710 -0.185234  0.017548  0.410124  1.000000   \n",
       "Total_Stops        -0.294135 -0.170523  0.690593  0.458264  0.191129   \n",
       "year_of_journey          NaN       NaN       NaN       NaN       NaN   \n",
       "Month_journey      -0.104465 -0.031829  0.045952  0.048985  0.060574   \n",
       "Day_Journey        -0.046308  0.021571 -0.145291  0.086321  0.000833   \n",
       "\n",
       "                 Total_Stops  year_of_journey  Month_journey  Day_Journey  \n",
       "Additional_Info    -0.079143              NaN      -0.008769    -0.020467  \n",
       "Airline            -0.206200              NaN      -0.005482     0.025635  \n",
       "Arrival_Time        0.046195              NaN       0.001420     0.004403  \n",
       "Dep_Time           -0.075704              NaN       0.023861    -0.007691  \n",
       "Destination        -0.294135              NaN      -0.104465    -0.046308  \n",
       "Duration           -0.170523              NaN      -0.031829     0.021571  \n",
       "Price               0.690593              NaN       0.045952    -0.145291  \n",
       "Route               0.458264              NaN       0.048985     0.086321  \n",
       "Source              0.191129              NaN       0.060574     0.000833  \n",
       "Total_Stops         1.000000              NaN       0.068725    -0.027867  \n",
       "year_of_journey          NaN              NaN            NaN          NaN  \n",
       "Month_journey       0.068725              NaN       1.000000    -0.263645  \n",
       "Day_Journey        -0.027867              NaN      -0.263645     1.000000  "
      ]
     },
     "execution_count": 64,
     "metadata": {},
     "output_type": "execute_result"
    }
   ],
   "source": [
    "df.corr()"
   ]
  },
  {
   "cell_type": "code",
   "execution_count": 65,
   "metadata": {},
   "outputs": [
    {
     "data": {
      "text/plain": [
       "<matplotlib.axes._subplots.AxesSubplot at 0x2001aa74708>"
      ]
     },
     "execution_count": 65,
     "metadata": {},
     "output_type": "execute_result"
    },
    {
     "data": {
      "image/png": "[encoded data removed]",
      "text/plain": [
       "<Figure size 720x504 with 2 Axes>"
      ]
     },
     "metadata": {
      "needs_background": "light"
     },
     "output_type": "display_data"
    }
   ],
   "source": [
    "plt.figure(figsize=(10,7))\n",
    "sns.heatmap(df.corr())"
   ]
  },
  {
   "cell_type": "code",
   "execution_count": 66,
   "metadata": {},
   "outputs": [
    {
     "data": {
      "text/html": [
       "<div>\n",
       "<style scoped>\n",
       "    .dataframe tbody tr th:only-of-type {\n",
       "        vertical-align: middle;\n",
       "    }\n",
       "\n",
       "    .dataframe tbody tr th {\n",
       "        vertical-align: top;\n",
       "    }\n",
       "\n",
       "    .dataframe thead th {\n",
       "        text-align: right;\n",
       "    }\n",
       "</style>\n",
       "<table border=\"1\" class=\"dataframe\">\n",
       "  <thead>\n",
       "    <tr style=\"text-align: right;\">\n",
       "      <th></th>\n",
       "      <th>Additional_Info</th>\n",
       "      <th>Airline</th>\n",
       "      <th>Arrival_Time</th>\n",
       "      <th>Dep_Time</th>\n",
       "      <th>Destination</th>\n",
       "      <th>Duration</th>\n",
       "      <th>Price</th>\n",
       "      <th>Route</th>\n",
       "      <th>Source</th>\n",
       "      <th>Total_Stops</th>\n",
       "      <th>source</th>\n",
       "      <th>year_of_journey</th>\n",
       "      <th>Month_journey</th>\n",
       "      <th>Day_Journey</th>\n",
       "    </tr>\n",
       "  </thead>\n",
       "  <tbody>\n",
       "    <tr>\n",
       "      <td>0</td>\n",
       "      <td>8</td>\n",
       "      <td>3</td>\n",
       "      <td>264</td>\n",
       "      <td>211</td>\n",
       "      <td>5</td>\n",
       "      <td>242</td>\n",
       "      <td>8.268219</td>\n",
       "      <td>18</td>\n",
       "      <td>0</td>\n",
       "      <td>0.0</td>\n",
       "      <td>train</td>\n",
       "      <td>2019</td>\n",
       "      <td>3</td>\n",
       "      <td>24</td>\n",
       "    </tr>\n",
       "    <tr>\n",
       "      <td>1</td>\n",
       "      <td>8</td>\n",
       "      <td>1</td>\n",
       "      <td>986</td>\n",
       "      <td>31</td>\n",
       "      <td>0</td>\n",
       "      <td>342</td>\n",
       "      <td>8.944159</td>\n",
       "      <td>87</td>\n",
       "      <td>3</td>\n",
       "      <td>2.0</td>\n",
       "      <td>train</td>\n",
       "      <td>2019</td>\n",
       "      <td>1</td>\n",
       "      <td>5</td>\n",
       "    </tr>\n",
       "    <tr>\n",
       "      <td>2</td>\n",
       "      <td>8</td>\n",
       "      <td>4</td>\n",
       "      <td>468</td>\n",
       "      <td>70</td>\n",
       "      <td>1</td>\n",
       "      <td>106</td>\n",
       "      <td>9.538420</td>\n",
       "      <td>122</td>\n",
       "      <td>2</td>\n",
       "      <td>2.0</td>\n",
       "      <td>train</td>\n",
       "      <td>2019</td>\n",
       "      <td>9</td>\n",
       "      <td>6</td>\n",
       "    </tr>\n",
       "    <tr>\n",
       "      <td>3</td>\n",
       "      <td>8</td>\n",
       "      <td>3</td>\n",
       "      <td>1430</td>\n",
       "      <td>164</td>\n",
       "      <td>0</td>\n",
       "      <td>317</td>\n",
       "      <td>8.735364</td>\n",
       "      <td>95</td>\n",
       "      <td>3</td>\n",
       "      <td>1.0</td>\n",
       "      <td>train</td>\n",
       "      <td>2019</td>\n",
       "      <td>12</td>\n",
       "      <td>5</td>\n",
       "    </tr>\n",
       "    <tr>\n",
       "      <td>4</td>\n",
       "      <td>8</td>\n",
       "      <td>3</td>\n",
       "      <td>1331</td>\n",
       "      <td>149</td>\n",
       "      <td>5</td>\n",
       "      <td>309</td>\n",
       "      <td>9.495745</td>\n",
       "      <td>29</td>\n",
       "      <td>0</td>\n",
       "      <td>1.0</td>\n",
       "      <td>train</td>\n",
       "      <td>2019</td>\n",
       "      <td>1</td>\n",
       "      <td>3</td>\n",
       "    </tr>\n",
       "  </tbody>\n",
       "</table>\n",
       "</div>"
      ],
      "text/plain": [
       "   Additional_Info  Airline  Arrival_Time  Dep_Time  Destination  Duration  \\\n",
       "0                8        3           264       211            5       242   \n",
       "1                8        1           986        31            0       342   \n",
       "2                8        4           468        70            1       106   \n",
       "3                8        3          1430       164            0       317   \n",
       "4                8        3          1331       149            5       309   \n",
       "\n",
       "      Price  Route  Source  Total_Stops source  year_of_journey  \\\n",
       "0  8.268219     18       0          0.0  train             2019   \n",
       "1  8.944159     87       3          2.0  train             2019   \n",
       "2  9.538420    122       2          2.0  train             2019   \n",
       "3  8.735364     95       3          1.0  train             2019   \n",
       "4  9.495745     29       0          1.0  train             2019   \n",
       "\n",
       "   Month_journey  Day_Journey  \n",
       "0              3           24  \n",
       "1              1            5  \n",
       "2              9            6  \n",
       "3             12            5  \n",
       "4              1            3  "
      ]
     },
     "execution_count": 66,
     "metadata": {},
     "output_type": "execute_result"
    }
   ],
   "source": [
    "df.head()"
   ]
  },
  {
   "cell_type": "code",
   "execution_count": 67,
   "metadata": {},
   "outputs": [],
   "source": [
    "df.drop('year_of_journey',inplace=True,axis=1)"
   ]
  },
  {
   "cell_type": "code",
   "execution_count": 68,
   "metadata": {},
   "outputs": [],
   "source": [
    "# seperating the  train and test from df\n",
    "train = df[df.source==\"train\"]\n",
    "\n",
    "test = df[df.source==\"test\"]"
   ]
  },
  {
   "cell_type": "code",
   "execution_count": 69,
   "metadata": {},
   "outputs": [],
   "source": [
    "# dropping source and price column\n",
    "test.drop(columns=[\"source\",\"Price\"],inplace=True)\n",
    "train.drop(columns=[\"source\"],inplace=True)"
   ]
  },
  {
   "cell_type": "code",
   "execution_count": 70,
   "metadata": {},
   "outputs": [],
   "source": [
    "x=train.drop('Price',axis=1)## feature \n",
    "\n",
    "y=train['Price']## target variable"
   ]
  },
  {
   "cell_type": "code",
   "execution_count": 71,
   "metadata": {},
   "outputs": [
    {
     "data": {
      "text/html": [
       "<div>\n",
       "<style scoped>\n",
       "    .dataframe tbody tr th:only-of-type {\n",
       "        vertical-align: middle;\n",
       "    }\n",
       "\n",
       "    .dataframe tbody tr th {\n",
       "        vertical-align: top;\n",
       "    }\n",
       "\n",
       "    .dataframe thead th {\n",
       "        text-align: right;\n",
       "    }\n",
       "</style>\n",
       "<table border=\"1\" class=\"dataframe\">\n",
       "  <thead>\n",
       "    <tr style=\"text-align: right;\">\n",
       "      <th></th>\n",
       "      <th>Additional_Info</th>\n",
       "      <th>Airline</th>\n",
       "      <th>Arrival_Time</th>\n",
       "      <th>Dep_Time</th>\n",
       "      <th>Destination</th>\n",
       "      <th>Duration</th>\n",
       "      <th>Route</th>\n",
       "      <th>Source</th>\n",
       "      <th>Total_Stops</th>\n",
       "      <th>Month_journey</th>\n",
       "      <th>Day_Journey</th>\n",
       "    </tr>\n",
       "  </thead>\n",
       "  <tbody>\n",
       "    <tr>\n",
       "      <td>0</td>\n",
       "      <td>8</td>\n",
       "      <td>3</td>\n",
       "      <td>264</td>\n",
       "      <td>211</td>\n",
       "      <td>5</td>\n",
       "      <td>242</td>\n",
       "      <td>18</td>\n",
       "      <td>0</td>\n",
       "      <td>0.0</td>\n",
       "      <td>3</td>\n",
       "      <td>24</td>\n",
       "    </tr>\n",
       "    <tr>\n",
       "      <td>1</td>\n",
       "      <td>8</td>\n",
       "      <td>1</td>\n",
       "      <td>986</td>\n",
       "      <td>31</td>\n",
       "      <td>0</td>\n",
       "      <td>342</td>\n",
       "      <td>87</td>\n",
       "      <td>3</td>\n",
       "      <td>2.0</td>\n",
       "      <td>1</td>\n",
       "      <td>5</td>\n",
       "    </tr>\n",
       "    <tr>\n",
       "      <td>2</td>\n",
       "      <td>8</td>\n",
       "      <td>4</td>\n",
       "      <td>468</td>\n",
       "      <td>70</td>\n",
       "      <td>1</td>\n",
       "      <td>106</td>\n",
       "      <td>122</td>\n",
       "      <td>2</td>\n",
       "      <td>2.0</td>\n",
       "      <td>9</td>\n",
       "      <td>6</td>\n",
       "    </tr>\n",
       "    <tr>\n",
       "      <td>3</td>\n",
       "      <td>8</td>\n",
       "      <td>3</td>\n",
       "      <td>1430</td>\n",
       "      <td>164</td>\n",
       "      <td>0</td>\n",
       "      <td>317</td>\n",
       "      <td>95</td>\n",
       "      <td>3</td>\n",
       "      <td>1.0</td>\n",
       "      <td>12</td>\n",
       "      <td>5</td>\n",
       "    </tr>\n",
       "    <tr>\n",
       "      <td>4</td>\n",
       "      <td>8</td>\n",
       "      <td>3</td>\n",
       "      <td>1331</td>\n",
       "      <td>149</td>\n",
       "      <td>5</td>\n",
       "      <td>309</td>\n",
       "      <td>29</td>\n",
       "      <td>0</td>\n",
       "      <td>1.0</td>\n",
       "      <td>1</td>\n",
       "      <td>3</td>\n",
       "    </tr>\n",
       "  </tbody>\n",
       "</table>\n",
       "</div>"
      ],
      "text/plain": [
       "   Additional_Info  Airline  Arrival_Time  Dep_Time  Destination  Duration  \\\n",
       "0                8        3           264       211            5       242   \n",
       "1                8        1           986        31            0       342   \n",
       "2                8        4           468        70            1       106   \n",
       "3                8        3          1430       164            0       317   \n",
       "4                8        3          1331       149            5       309   \n",
       "\n",
       "   Route  Source  Total_Stops  Month_journey  Day_Journey  \n",
       "0     18       0          0.0              3           24  \n",
       "1     87       3          2.0              1            5  \n",
       "2    122       2          2.0              9            6  \n",
       "3     95       3          1.0             12            5  \n",
       "4     29       0          1.0              1            3  "
      ]
     },
     "execution_count": 71,
     "metadata": {},
     "output_type": "execute_result"
    }
   ],
   "source": [
    "x.head()"
   ]
  },
  {
   "cell_type": "code",
   "execution_count": 72,
   "metadata": {},
   "outputs": [],
   "source": [
    "## standard scaling the data between -0,1-\n",
    "from sklearn.preprocessing import StandardScaler\n",
    "ss=StandardScaler()\n",
    "x_=ss.fit_transform(x)"
   ]
  },
  {
   "cell_type": "code",
   "execution_count": 73,
   "metadata": {},
   "outputs": [
    {
     "data": {
      "text/plain": [
       "array([[ 0.49989167, -0.41067545, -1.94602437, ..., -1.22052384,\n",
       "        -0.84850298,  1.28563248],\n",
       "       [ 0.49989167, -1.26099927,  0.1155061 , ...,  1.74150619,\n",
       "        -1.5179928 , -0.8726517 ],\n",
       "       [ 0.49989167,  0.01448647, -1.36354208, ...,  1.74150619,\n",
       "         1.15996647, -0.7590578 ],\n",
       "       ...,\n",
       "       [ 0.49989167,  0.01448647, -0.12719486, ..., -1.22052384,\n",
       "        -0.51375808,  1.62641419],\n",
       "       [ 0.49989167,  2.56545795,  0.20973117, ..., -1.22052384,\n",
       "        -1.5179928 , -1.09983951],\n",
       "       [ 0.49989167, -1.26099927,  0.76080511, ...,  1.74150619,\n",
       "         1.15996647, -0.8726517 ]])"
      ]
     },
     "execution_count": 73,
     "metadata": {},
     "output_type": "execute_result"
    }
   ],
   "source": [
    "x_"
   ]
  },
  {
   "cell_type": "code",
   "execution_count": 74,
   "metadata": {},
   "outputs": [
    {
     "data": {
      "text/plain": [
       "0    8.268219\n",
       "1    8.944159\n",
       "2    9.538420\n",
       "3    8.735364\n",
       "4    9.495745\n",
       "Name: Price, dtype: float64"
      ]
     },
     "execution_count": 74,
     "metadata": {},
     "output_type": "execute_result"
    }
   ],
   "source": [
    "y.head()"
   ]
  },
  {
   "cell_type": "code",
   "execution_count": 75,
   "metadata": {},
   "outputs": [],
   "source": [
    "# IMPORTING  METRICS AND OTHER MODELS TO TRAIN AND TEST and interpret\n",
    "from sklearn.model_selection import train_test_split\n",
    "from sklearn.model_selection import cross_val_score\n",
    "from sklearn.tree import DecisionTreeRegressor\n",
    "from sklearn import linear_model\n",
    "from sklearn.metrics import mean_absolute_error\n",
    "from sklearn import metrics \n",
    "from sklearn.linear_model import LogisticRegression,LinearRegression\n",
    "from sklearn.metrics import  mean_squared_error, r2_score\n",
    "from sklearn.metrics import confusion_matrix, roc_curve, roc_auc_score\n",
    "from sklearn.neighbors import KNeighborsRegressor\n",
    "from sklearn.ensemble import GradientBoostingRegressor,AdaBoostRegressor,RandomForestRegressor"
   ]
  },
  {
   "cell_type": "code",
   "execution_count": 76,
   "metadata": {},
   "outputs": [],
   "source": [
    "## splitting the dataset\n",
    "x_train, x_test, y_train, y_test = train_test_split(x_, y, random_state =42, test_size = 0.25)"
   ]
  },
  {
   "cell_type": "code",
   "execution_count": 77,
   "metadata": {},
   "outputs": [
    {
     "data": {
      "text/plain": [
       "6076    9.291459\n",
       "3544    8.509161\n",
       "7313    9.601166\n",
       "5032    8.258163\n",
       "2483    9.464905\n",
       "          ...   \n",
       "3022    9.514585\n",
       "8417    8.885994\n",
       "2605    8.137396\n",
       "1392    8.665268\n",
       "7855    9.642642\n",
       "Name: Price, Length: 2671, dtype: float64"
      ]
     },
     "execution_count": 77,
     "metadata": {},
     "output_type": "execute_result"
    }
   ],
   "source": [
    "y_test"
   ]
  },
  {
   "cell_type": "code",
   "execution_count": 78,
   "metadata": {},
   "outputs": [
    {
     "data": {
      "text/plain": [
       "array([[-1.97096401,  0.01448647,  0.52095946, ...,  0.26049117,\n",
       "        -0.17901317,  0.60406905],\n",
       "       [ 0.49989167, -0.83583736,  0.84075366, ...,  0.26049117,\n",
       "        -0.84850298, -0.7590578 ],\n",
       "       [ 0.49989167,  0.01448647,  0.85788549, ...,  0.26049117,\n",
       "        -1.5179928 , -0.8726517 ],\n",
       "       ...,\n",
       "       [ 0.49989167, -0.41067545, -1.47204368, ..., -1.22052384,\n",
       "         0.15573174,  0.94485077],\n",
       "       [-1.97096401,  0.86481029, -1.76614013, ...,  0.26049117,\n",
       "         0.15573174,  1.62641419],\n",
       "       [ 0.49989167, -1.26099927, -0.99520769, ...,  0.26049117,\n",
       "         0.15573174, -1.09983951]])"
      ]
     },
     "execution_count": 78,
     "metadata": {},
     "output_type": "execute_result"
    }
   ],
   "source": [
    "x_test"
   ]
  },
  {
   "cell_type": "code",
   "execution_count": 79,
   "metadata": {},
   "outputs": [
    {
     "data": {
      "text/plain": [
       "Additional_Info    0\n",
       "Airline            0\n",
       "Arrival_Time       0\n",
       "Dep_Time           0\n",
       "Destination        0\n",
       "Duration           0\n",
       "Route              0\n",
       "Source             0\n",
       "Total_Stops        0\n",
       "Month_journey      0\n",
       "Day_Journey        0\n",
       "dtype: int64"
      ]
     },
     "execution_count": 79,
     "metadata": {},
     "output_type": "execute_result"
    }
   ],
   "source": [
    "x.isnull().sum() # checking the null values in features"
   ]
  },
  {
   "cell_type": "code",
   "execution_count": 80,
   "metadata": {},
   "outputs": [
    {
     "name": "stdout",
     "output_type": "stream",
     "text": [
      "52.50745480071439\n",
      "0.12529031004498242\n",
      "0.28559892486034727\n",
      "0.5250745480071439\n"
     ]
    }
   ],
   "source": [
    "## first training for the linear reg model and findin result\n",
    "lr=LinearRegression()\n",
    "lr.fit(x_train,y_train)\n",
    "ylreg=lr.predict(x_test)\n",
    "print(lr.score(x_test, y_test)*100)\n",
    "print(mean_squared_error(ylreg, y_test))\n",
    "print(mean_absolute_error(ylreg, y_test))\n",
    "print(r2_score(y_test,ylreg))"
   ]
  },
  {
   "cell_type": "code",
   "execution_count": 81,
   "metadata": {},
   "outputs": [],
   "source": [
    "### TUNING THE PARAMETERS\n",
    "from sklearn.tree import DecisionTreeRegressor\n",
    "from sklearn.svm import SVR\n",
    "rfr=RandomForestRegressor(n_estimators=1000,random_state=42)\n",
    "knn=KNeighborsRegressor(n_neighbors=10)\n",
    "svr=SVR(kernel='rbf')\n",
    "ada=AdaBoostRegressor(learning_rate=0.1,n_estimators=200)\n",
    "gbr=GradientBoostingRegressor(learning_rate=0.1,n_estimators=300)\n",
    "dtr=DecisionTreeRegressor()\n",
    "lr=LinearRegression()\n"
   ]
  },
  {
   "cell_type": "code",
   "execution_count": 82,
   "metadata": {},
   "outputs": [],
   "source": [
    "models = []\n",
    "models.append(('randomforestREG', rfr))\n",
    "models.append(('kneighborsREG', knn))\n",
    "models.append(('svR', svr))\n",
    "models.append(('ada boost REG', ada))\n",
    "models.append(('gradient boosting REG', gbr))\n",
    "models.append(('decisiontree REG', dtr))\n",
    "models.append(('linear REG', lr))\n"
   ]
  },
  {
   "cell_type": "code",
   "execution_count": 83,
   "metadata": {},
   "outputs": [
    {
     "name": "stdout",
     "output_type": "stream",
     "text": [
      "******** randomforestREG *******\n",
      "\n",
      "\n",
      "RandomForestRegressor(bootstrap=True, criterion='mse', max_depth=None,\n",
      "                      max_features='auto', max_leaf_nodes=None,\n",
      "                      min_impurity_decrease=0.0, min_impurity_split=None,\n",
      "                      min_samples_leaf=1, min_samples_split=2,\n",
      "                      min_weight_fraction_leaf=0.0, n_estimators=1000,\n",
      "                      n_jobs=None, oob_score=False, random_state=42, verbose=0,\n",
      "                      warm_start=False)\n",
      "\n",
      "\n",
      "R2_score= 0.9410828347015991\n",
      "\n",
      "\n",
      "cross_val_sc= 0.9430825381285913\n",
      "\n",
      "\n",
      "mse 0.015542965482757822\n",
      "\n",
      "\n",
      "mae 0.07038598206736622\n",
      "\n",
      "\n",
      "rmse 0.1246714300983101\n",
      "\n",
      "\n",
      "\n",
      "******** kneighborsREG *******\n",
      "\n",
      "\n",
      "KNeighborsRegressor(algorithm='auto', leaf_size=30, metric='minkowski',\n",
      "                    metric_params=None, n_jobs=None, n_neighbors=10, p=2,\n",
      "                    weights='uniform')\n",
      "\n",
      "\n",
      "R2_score= 0.7678576900989145\n",
      "\n",
      "\n",
      "cross_val_sc= 0.7900726383888793\n",
      "\n",
      "\n",
      "mse 0.061241573514368965\n",
      "\n",
      "\n",
      "mae 0.17638468409450206\n",
      "\n",
      "\n",
      "rmse 0.24747034875792487\n",
      "\n",
      "\n",
      "\n",
      "******** svR *******\n",
      "\n",
      "\n",
      "SVR(C=1.0, cache_size=200, coef0=0.0, degree=3, epsilon=0.1,\n",
      "    gamma='auto_deprecated', kernel='rbf', max_iter=-1, shrinking=True,\n",
      "    tol=0.001, verbose=False)\n",
      "\n",
      "\n",
      "R2_score= 0.7975177628193842\n",
      "\n",
      "\n",
      "cross_val_sc= 0.8062203499998766\n",
      "\n",
      "\n",
      "mse 0.0534169355811712\n",
      "\n",
      "\n",
      "mae 0.16866896226875214\n",
      "\n",
      "\n",
      "rmse 0.23112104097457506\n",
      "\n",
      "\n",
      "\n",
      "******** ada boost REG *******\n",
      "\n",
      "\n",
      "AdaBoostRegressor(base_estimator=None, learning_rate=0.1, loss='linear',\n",
      "                  n_estimators=200, random_state=None)\n",
      "\n",
      "\n",
      "R2_score= 0.6358297095724201\n",
      "\n",
      "\n",
      "cross_val_sc= 0.6478872616879057\n",
      "\n",
      "\n",
      "mse 0.0960719380386653\n",
      "\n",
      "\n",
      "mae 0.2584915263495841\n",
      "\n",
      "\n",
      "rmse 0.30995473546739905\n",
      "\n",
      "\n",
      "\n",
      "******** gradient boosting REG *******\n",
      "\n",
      "\n",
      "GradientBoostingRegressor(alpha=0.9, criterion='friedman_mse', init=None,\n",
      "                          learning_rate=0.1, loss='ls', max_depth=3,\n",
      "                          max_features=None, max_leaf_nodes=None,\n",
      "                          min_impurity_decrease=0.0, min_impurity_split=None,\n",
      "                          min_samples_leaf=1, min_samples_split=2,\n",
      "                          min_weight_fraction_leaf=0.0, n_estimators=300,\n",
      "                          n_iter_no_change=None, presort='auto',\n",
      "                          random_state=None, subsample=1.0, tol=0.0001,\n",
      "                          validation_fraction=0.1, verbose=0, warm_start=False)\n",
      "\n",
      "\n",
      "R2_score= 0.9027346522465285\n",
      "\n",
      "\n",
      "cross_val_sc= 0.9076117044751418\n",
      "\n",
      "\n",
      "mse 0.025659617789548988\n",
      "\n",
      "\n",
      "mae 0.11706933267988552\n",
      "\n",
      "\n",
      "rmse 0.16018619725041539\n",
      "\n",
      "\n",
      "\n",
      "******** decisiontree REG *******\n",
      "\n",
      "\n",
      "DecisionTreeRegressor(criterion='mse', max_depth=None, max_features=None,\n",
      "                      max_leaf_nodes=None, min_impurity_decrease=0.0,\n",
      "                      min_impurity_split=None, min_samples_leaf=1,\n",
      "                      min_samples_split=2, min_weight_fraction_leaf=0.0,\n",
      "                      presort=False, random_state=None, splitter='best')\n",
      "\n",
      "\n",
      "R2_score= 0.9005690382391084\n",
      "\n",
      "\n",
      "cross_val_sc= 0.9113276068880903\n",
      "\n",
      "\n",
      "mse 0.02623092945391416\n",
      "\n",
      "\n",
      "mae 0.0785610410952947\n",
      "\n",
      "\n",
      "rmse 0.16195965378425012\n",
      "\n",
      "\n",
      "\n",
      "******** linear REG *******\n",
      "\n",
      "\n",
      "LinearRegression(copy_X=True, fit_intercept=True, n_jobs=None, normalize=False)\n",
      "\n",
      "\n",
      "R2_score= 0.5250745480071439\n",
      "\n",
      "\n",
      "cross_val_sc= 0.5235660186280476\n",
      "\n",
      "\n",
      "mse 0.12529031004498242\n",
      "\n",
      "\n",
      "mae 0.28559892486034727\n",
      "\n",
      "\n",
      "rmse 0.3539637128929778\n",
      "\n",
      "\n",
      "\n"
     ]
    }
   ],
   "source": [
    "Model=[]\n",
    "score=[]\n",
    "cvs=[]\n",
    "rocscore=[]\n",
    "MSE=[]\n",
    "MAE=[]\n",
    "RMSE=[]\n",
    "for name,model in models:\n",
    "    print('********',name,'*******')\n",
    "    print('\\n')\n",
    "    Model.append(name)\n",
    "    model.fit(x_train,y_train)\n",
    "    print(model)\n",
    "    pre=model.predict(x_test)\n",
    "    print('\\n')\n",
    "    R2=r2_score(y_test,pre)\n",
    "    print(\"R2_score=\",R2)\n",
    "    score.append(R2*100)\n",
    "    print('\\n')\n",
    "    sc=cross_val_score(model,x_,y,cv=10,scoring='r2').mean()\n",
    "    print('cross_val_sc=',sc)\n",
    "    cvs.append(sc*100)\n",
    "    print('\\n')\n",
    "    mse=mean_squared_error(y_test,pre)\n",
    "    print('mse',mse)\n",
    "    MSE.append(mse)\n",
    "    print('\\n')\n",
    "    mae=mean_absolute_error(y_test,pre)\n",
    "    print('mae',mae)\n",
    "    MAE.append(mae)\n",
    "    print('\\n')\n",
    "    Rmse=np.sqrt(mean_squared_error(y_test,pre))\n",
    "    print('rmse',Rmse)\n",
    "    RMSE.append(Rmse)\n",
    "    print('\\n\\n')\n",
    "    "
   ]
  },
  {
   "cell_type": "code",
   "execution_count": 84,
   "metadata": {},
   "outputs": [
    {
     "data": {
      "text/html": [
       "<div>\n",
       "<style scoped>\n",
       "    .dataframe tbody tr th:only-of-type {\n",
       "        vertical-align: middle;\n",
       "    }\n",
       "\n",
       "    .dataframe tbody tr th {\n",
       "        vertical-align: top;\n",
       "    }\n",
       "\n",
       "    .dataframe thead th {\n",
       "        text-align: right;\n",
       "    }\n",
       "</style>\n",
       "<table border=\"1\" class=\"dataframe\">\n",
       "  <thead>\n",
       "    <tr style=\"text-align: right;\">\n",
       "      <th></th>\n",
       "      <th>MODEL</th>\n",
       "      <th>R2 - SCORE</th>\n",
       "      <th>CROSS_Val_Score</th>\n",
       "      <th>MEAN SQ ERROR</th>\n",
       "      <th>MEAN ABS ERROR</th>\n",
       "      <th>ROOTMEAN SQ ERROR</th>\n",
       "    </tr>\n",
       "  </thead>\n",
       "  <tbody>\n",
       "    <tr>\n",
       "      <td>0</td>\n",
       "      <td>randomforestREG</td>\n",
       "      <td>94.108283</td>\n",
       "      <td>94.308254</td>\n",
       "      <td>0.015543</td>\n",
       "      <td>0.070386</td>\n",
       "      <td>0.124671</td>\n",
       "    </tr>\n",
       "    <tr>\n",
       "      <td>1</td>\n",
       "      <td>kneighborsREG</td>\n",
       "      <td>76.785769</td>\n",
       "      <td>79.007264</td>\n",
       "      <td>0.061242</td>\n",
       "      <td>0.176385</td>\n",
       "      <td>0.247470</td>\n",
       "    </tr>\n",
       "    <tr>\n",
       "      <td>2</td>\n",
       "      <td>svR</td>\n",
       "      <td>79.751776</td>\n",
       "      <td>80.622035</td>\n",
       "      <td>0.053417</td>\n",
       "      <td>0.168669</td>\n",
       "      <td>0.231121</td>\n",
       "    </tr>\n",
       "    <tr>\n",
       "      <td>3</td>\n",
       "      <td>ada boost REG</td>\n",
       "      <td>63.582971</td>\n",
       "      <td>64.788726</td>\n",
       "      <td>0.096072</td>\n",
       "      <td>0.258492</td>\n",
       "      <td>0.309955</td>\n",
       "    </tr>\n",
       "    <tr>\n",
       "      <td>4</td>\n",
       "      <td>gradient boosting REG</td>\n",
       "      <td>90.273465</td>\n",
       "      <td>90.761170</td>\n",
       "      <td>0.025660</td>\n",
       "      <td>0.117069</td>\n",
       "      <td>0.160186</td>\n",
       "    </tr>\n",
       "    <tr>\n",
       "      <td>5</td>\n",
       "      <td>decisiontree REG</td>\n",
       "      <td>90.056904</td>\n",
       "      <td>91.132761</td>\n",
       "      <td>0.026231</td>\n",
       "      <td>0.078561</td>\n",
       "      <td>0.161960</td>\n",
       "    </tr>\n",
       "    <tr>\n",
       "      <td>6</td>\n",
       "      <td>linear REG</td>\n",
       "      <td>52.507455</td>\n",
       "      <td>52.356602</td>\n",
       "      <td>0.125290</td>\n",
       "      <td>0.285599</td>\n",
       "      <td>0.353964</td>\n",
       "    </tr>\n",
       "  </tbody>\n",
       "</table>\n",
       "</div>"
      ],
      "text/plain": [
       "                   MODEL  R2 - SCORE  CROSS_Val_Score  MEAN SQ ERROR  \\\n",
       "0        randomforestREG   94.108283        94.308254       0.015543   \n",
       "1          kneighborsREG   76.785769        79.007264       0.061242   \n",
       "2                    svR   79.751776        80.622035       0.053417   \n",
       "3          ada boost REG   63.582971        64.788726       0.096072   \n",
       "4  gradient boosting REG   90.273465        90.761170       0.025660   \n",
       "5       decisiontree REG   90.056904        91.132761       0.026231   \n",
       "6             linear REG   52.507455        52.356602       0.125290   \n",
       "\n",
       "   MEAN ABS ERROR  ROOTMEAN SQ ERROR  \n",
       "0        0.070386           0.124671  \n",
       "1        0.176385           0.247470  \n",
       "2        0.168669           0.231121  \n",
       "3        0.258492           0.309955  \n",
       "4        0.117069           0.160186  \n",
       "5        0.078561           0.161960  \n",
       "6        0.285599           0.353964  "
      ]
     },
     "execution_count": 84,
     "metadata": {},
     "output_type": "execute_result"
    }
   ],
   "source": [
    "result=pd.DataFrame({'MODEL':Model,'R2 - SCORE':score,'CROSS_Val_Score':cvs,'MEAN SQ ERROR':MSE,'MEAN ABS ERROR':MAE,'ROOTMEAN SQ ERROR':RMSE})\n",
    "result"
   ]
  },
  {
   "cell_type": "code",
   "execution_count": 85,
   "metadata": {},
   "outputs": [
    {
     "data": {
      "text/plain": [
       "<matplotlib.collections.PathCollection at 0x2001a9c6f48>"
      ]
     },
     "execution_count": 85,
     "metadata": {},
     "output_type": "execute_result"
    },
    {
     "data": {
      "image/png": "[encoded data removed]",
      "text/plain": [
       "<Figure size 432x288 with 1 Axes>"
      ]
     },
     "metadata": {
      "needs_background": "light"
     },
     "output_type": "display_data"
    }
   ],
   "source": [
    "## random forest working the best \n",
    "y_rfr=rfr.predict(x_test)\n",
    "plt.scatter(y_test,y_rfr)"
   ]
  },
  {
   "cell_type": "code",
   "execution_count": 86,
   "metadata": {},
   "outputs": [
    {
     "data": {
      "text/html": [
       "<div>\n",
       "<style scoped>\n",
       "    .dataframe tbody tr th:only-of-type {\n",
       "        vertical-align: middle;\n",
       "    }\n",
       "\n",
       "    .dataframe tbody tr th {\n",
       "        vertical-align: top;\n",
       "    }\n",
       "\n",
       "    .dataframe thead th {\n",
       "        text-align: right;\n",
       "    }\n",
       "</style>\n",
       "<table border=\"1\" class=\"dataframe\">\n",
       "  <thead>\n",
       "    <tr style=\"text-align: right;\">\n",
       "      <th></th>\n",
       "      <th>actual</th>\n",
       "      <th>predicted</th>\n",
       "    </tr>\n",
       "  </thead>\n",
       "  <tbody>\n",
       "    <tr>\n",
       "      <td>6076</td>\n",
       "      <td>9.291459</td>\n",
       "      <td>9.291422</td>\n",
       "    </tr>\n",
       "    <tr>\n",
       "      <td>3544</td>\n",
       "      <td>8.509161</td>\n",
       "      <td>8.759350</td>\n",
       "    </tr>\n",
       "    <tr>\n",
       "      <td>7313</td>\n",
       "      <td>9.601166</td>\n",
       "      <td>9.592424</td>\n",
       "    </tr>\n",
       "    <tr>\n",
       "      <td>5032</td>\n",
       "      <td>8.258163</td>\n",
       "      <td>8.209161</td>\n",
       "    </tr>\n",
       "    <tr>\n",
       "      <td>2483</td>\n",
       "      <td>9.464905</td>\n",
       "      <td>9.464827</td>\n",
       "    </tr>\n",
       "  </tbody>\n",
       "</table>\n",
       "</div>"
      ],
      "text/plain": [
       "        actual  predicted\n",
       "6076  9.291459   9.291422\n",
       "3544  8.509161   8.759350\n",
       "7313  9.601166   9.592424\n",
       "5032  8.258163   8.209161\n",
       "2483  9.464905   9.464827"
      ]
     },
     "execution_count": 86,
     "metadata": {},
     "output_type": "execute_result"
    }
   ],
   "source": [
    "RESULT=pd.DataFrame({'actual':y_test,'predicted':y_rfr})\n",
    "RESULT.head()"
   ]
  },
  {
   "cell_type": "code",
   "execution_count": 89,
   "metadata": {},
   "outputs": [
    {
     "data": {
      "text/html": [
       "<div>\n",
       "<style scoped>\n",
       "    .dataframe tbody tr th:only-of-type {\n",
       "        vertical-align: middle;\n",
       "    }\n",
       "\n",
       "    .dataframe tbody tr th {\n",
       "        vertical-align: top;\n",
       "    }\n",
       "\n",
       "    .dataframe thead th {\n",
       "        text-align: right;\n",
       "    }\n",
       "</style>\n",
       "<table border=\"1\" class=\"dataframe\">\n",
       "  <thead>\n",
       "    <tr style=\"text-align: right;\">\n",
       "      <th></th>\n",
       "      <th>0</th>\n",
       "    </tr>\n",
       "  </thead>\n",
       "  <tbody>\n",
       "    <tr>\n",
       "      <td>0</td>\n",
       "      <td>5897.948819</td>\n",
       "    </tr>\n",
       "    <tr>\n",
       "      <td>1</td>\n",
       "      <td>5897.948819</td>\n",
       "    </tr>\n",
       "    <tr>\n",
       "      <td>2</td>\n",
       "      <td>5897.948819</td>\n",
       "    </tr>\n",
       "    <tr>\n",
       "      <td>3</td>\n",
       "      <td>5897.948819</td>\n",
       "    </tr>\n",
       "    <tr>\n",
       "      <td>4</td>\n",
       "      <td>17099.519991</td>\n",
       "    </tr>\n",
       "    <tr>\n",
       "      <td>5</td>\n",
       "      <td>5897.948819</td>\n",
       "    </tr>\n",
       "    <tr>\n",
       "      <td>6</td>\n",
       "      <td>6419.617253</td>\n",
       "    </tr>\n",
       "    <tr>\n",
       "      <td>7</td>\n",
       "      <td>5883.802437</td>\n",
       "    </tr>\n",
       "    <tr>\n",
       "      <td>8</td>\n",
       "      <td>5897.948819</td>\n",
       "    </tr>\n",
       "    <tr>\n",
       "      <td>9</td>\n",
       "      <td>5897.948819</td>\n",
       "    </tr>\n",
       "    <tr>\n",
       "      <td>10</td>\n",
       "      <td>5947.227302</td>\n",
       "    </tr>\n",
       "    <tr>\n",
       "      <td>11</td>\n",
       "      <td>5897.948819</td>\n",
       "    </tr>\n",
       "    <tr>\n",
       "      <td>12</td>\n",
       "      <td>5897.948819</td>\n",
       "    </tr>\n",
       "    <tr>\n",
       "      <td>13</td>\n",
       "      <td>5892.680493</td>\n",
       "    </tr>\n",
       "    <tr>\n",
       "      <td>14</td>\n",
       "      <td>5897.948819</td>\n",
       "    </tr>\n",
       "    <tr>\n",
       "      <td>15</td>\n",
       "      <td>5892.680493</td>\n",
       "    </tr>\n",
       "    <tr>\n",
       "      <td>16</td>\n",
       "      <td>5897.948819</td>\n",
       "    </tr>\n",
       "    <tr>\n",
       "      <td>17</td>\n",
       "      <td>5897.948819</td>\n",
       "    </tr>\n",
       "    <tr>\n",
       "      <td>18</td>\n",
       "      <td>5897.948819</td>\n",
       "    </tr>\n",
       "    <tr>\n",
       "      <td>19</td>\n",
       "      <td>5892.680493</td>\n",
       "    </tr>\n",
       "  </tbody>\n",
       "</table>\n",
       "</div>"
      ],
      "text/plain": [
       "               0\n",
       "0    5897.948819\n",
       "1    5897.948819\n",
       "2    5897.948819\n",
       "3    5897.948819\n",
       "4   17099.519991\n",
       "5    5897.948819\n",
       "6    6419.617253\n",
       "7    5883.802437\n",
       "8    5897.948819\n",
       "9    5897.948819\n",
       "10   5947.227302\n",
       "11   5897.948819\n",
       "12   5897.948819\n",
       "13   5892.680493\n",
       "14   5897.948819\n",
       "15   5892.680493\n",
       "16   5897.948819\n",
       "17   5897.948819\n",
       "18   5897.948819\n",
       "19   5892.680493"
      ]
     },
     "execution_count": 89,
     "metadata": {},
     "output_type": "execute_result"
    }
   ],
   "source": [
    "predictions=rfr.predict(test)\n",
    "predictions=np.exp(predictions)\n",
    "predictions=pd.DataFrame(predictions)\n",
    "predictions[:20]\n",
    "## the predictions "
   ]
  },
  {
   "cell_type": "code",
   "execution_count": 100,
   "metadata": {},
   "outputs": [],
   "source": [
    "## conclusion == predicted value working best and much more simliar\n",
    "## random forest is working best with a r2score of greater than 94 and also \n",
    "## cross val score is  94 and above, hence no under\\overfit in data \n",
    "## lowest RMSE =0.12 In rfr\n",
    "## saving the model"
   ]
  },
  {
   "cell_type": "code",
   "execution_count": 90,
   "metadata": {},
   "outputs": [
    {
     "name": "stderr",
     "output_type": "stream",
     "text": [
      "C:\\Users\\prince\\Anaconda3\\lib\\site-packages\\sklearn\\externals\\joblib\\__init__.py:15: DeprecationWarning: sklearn.externals.joblib is deprecated in 0.21 and will be removed in 0.23. Please import this functionality directly from joblib, which can be installed with: pip install joblib. If this warning is raised when loading pickled models, you may need to re-serialize those models with scikit-learn 0.21+.\n",
      "  warnings.warn(msg, category=DeprecationWarning)\n"
     ]
    },
    {
     "data": {
      "text/plain": [
       "['flight.pkl']"
      ]
     },
     "execution_count": 90,
     "metadata": {},
     "output_type": "execute_result"
    }
   ],
   "source": [
    "from sklearn.externals import joblib\n",
    "joblib.dump(rfr,'flight.pkl')"
   ]
  }
 ],
 "metadata": {
  "kernelspec": {
   "display_name": "Python 3",
   "language": "python",
   "name": "python3"
  },
  "language_info": {
   "codemirror_mode": {
    "name": "ipython",
    "version": 3
   },
   "file_extension": ".py",
   "mimetype": "text/x-python",
   "name": "python",
   "nbconvert_exporter": "python",
   "pygments_lexer": "ipython3",
   "version": "3.7.4"
  }
 },
 "nbformat": 4,
 "nbformat_minor": 2
}
